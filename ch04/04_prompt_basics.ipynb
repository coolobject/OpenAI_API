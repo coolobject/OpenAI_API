{
 "cells": [
  {
   "cell_type": "markdown",
   "id": "a40ee9d5",
   "metadata": {},
   "source": [
    "### 🧪 Client 인스턴스 "
   ]
  },
  {
   "cell_type": "code",
   "execution_count": 2,
   "id": "1d6b9f0e",
   "metadata": {},
   "outputs": [],
   "source": [
    "import os\n",
    "from dotenv import load_dotenv\n",
    "from openai import OpenAI\n",
    "\n",
    "# ─────────────────────────────────────────────\n",
    "# 환경 변수에서 OpenAI API 키 로드\n",
    "# ─────────────────────────────────────────────\n",
    "load_dotenv()\n",
    "OpenAI.api_key = os.getenv(\"OPENAI_API_KEY\")\n",
    "\n",
    "# ─────────────────────────────────────────────\n",
    "# OpenAI 클라이언트 인스턴스 생성\n",
    "# ─────────────────────────────────────────────\n",
    "client = OpenAI()"
   ]
  },
  {
   "cell_type": "markdown",
   "id": "f808d237",
   "metadata": {},
   "source": [
    "# 🧪 프롬프트 기초 실습 "
   ]
  },
  {
   "cell_type": "code",
   "execution_count": 12,
   "metadata": {},
   "outputs": [],
   "source": [
    "# 1. 역할 부여 (System Prompt)\n",
    "# GPT에게 특정 역할을 부여해 응답 스타일 제어\n",
    "messages = [\n",
    "    {\"role\": \"system\", \"content\": \"너는 친절한 요리사야.\"},\n",
    "    {\"role\": \"user\", \"content\": \"계란찜 만드는 법 알려줘\"}\n",
    "]"
   ]
  },
  {
   "cell_type": "code",
   "execution_count": 3,
   "metadata": {},
   "outputs": [],
   "source": [
    "# 2. 구체적인 출력 형식 요구\n",
    "# 예: 표, JSON 등 명시하면 형식을 따르려 함\n",
    "messages = [\n",
    "    {\"role\": \"user\", \"content\": \"아보카도 효능을 표로 알려줘\"}\n",
    "]"
   ]
  },
  {
   "cell_type": "code",
   "execution_count": null,
   "metadata": {},
   "outputs": [],
   "source": [
    "# 3. 출력 길이 제한\n",
    "# 몇 글자, 몇 문장 등으로 응답을 제한할 수 있음\n",
    "messages = [\n",
    "    {\"role\": \"user\", \"content\": \"이 문장을 100자 이내로 요약해줘: ...\"}\n",
    "]"
   ]
  },
  {
   "cell_type": "code",
   "execution_count": null,
   "metadata": {},
   "outputs": [],
   "source": [
    "# 4. 단계적 사고 유도\n",
    "# Step-by-step, 하나씩 설명하게 유도\n",
    "messages = [\n",
    "    {\"role\": \"user\", \"content\": \"문제를 단계별로 해결해줘: 12 + (3 * 4)\"}\n",
    "]"
   ]
  },
  {
   "cell_type": "code",
   "execution_count": null,
   "metadata": {},
   "outputs": [],
   "source": [
    "# 5. 비교 요청\n",
    "# 두 개 항목을 비교하면 명확하고 구조적인 답을 유도\n",
    "messages = [\n",
    "    {\"role\": \"user\", \"content\": \"GPT-3.5와 GPT-4의 차이를 비교해줘\"}\n",
    "]"
   ]
  },
  {
   "cell_type": "code",
   "execution_count": 2,
   "metadata": {},
   "outputs": [],
   "source": [
    "# 6. 의도 명확히 하기\n",
    "# 예: '초등학생이 이해할 수 있도록 설명해줘'\n",
    "messages = [\n",
    "    {\"role\": \"user\", \"content\": \"상대성이론을 초등학생도 알 수 있게 설명해줘\"}\n",
    "]"
   ]
  },
  {
   "cell_type": "code",
   "execution_count": null,
   "metadata": {},
   "outputs": [],
   "source": [
    "# 7. 조건 있는 생성 요청\n",
    "# 조건을 명시해 스타일이나 제약을 줄 수 있음\n",
    "messages = [\n",
    "    {\"role\": \"user\", \"content\": \"300자 이내로, 유머 섞어서 자기소개 예시 만들어줘\"}\n",
    "]"
   ]
  },
  {
   "cell_type": "code",
   "execution_count": null,
   "metadata": {},
   "outputs": [],
   "source": [
    "# 8. 예시를 먼저 제시 (Few-shot)\n",
    "# 입력-출력 예시를 줘서 유사 응답 유도\n",
    "messages = [\n",
    "    {\"role\": \"user\", \"content\": \"Q: 사과는 영어로?\\nA: Apple\"},\n",
    "    {\"role\": \"user\", \"content\": \"Q: 바나나는 영어로?\"}\n",
    "]"
   ]
  },
  {
   "cell_type": "code",
   "execution_count": 5,
   "metadata": {},
   "outputs": [],
   "source": [
    "# 9. 비유나 예시 강조\n",
    "# 직접적인 설명보다 비유를 통해 이해 유도\n",
    "messages = [\n",
    "    {\"role\": \"user\", \"content\": \"머신러닝을 요리로 비유해서 설명해줘\"}\n",
    "]"
   ]
  },
  {
   "cell_type": "code",
   "execution_count": null,
   "metadata": {},
   "outputs": [],
   "source": [
    "# 10. 형식 + 언어 지시 결합\n",
    "# 예: 영어로 JSON 형식으로 응답해줘\n",
    "messages = [\n",
    "    {\"role\": \"user\", \"content\": \"내 일정 요약을 JSON으로 영어로 표현해줘\"}\n",
    "]"
   ]
  },
  {
   "cell_type": "markdown",
   "id": "0795ddb1",
   "metadata": {},
   "source": [
    "# 🧪 Client 생성 + 제어 파라미터 기초 실습"
   ]
  },
  {
   "cell_type": "code",
   "execution_count": null,
   "id": "b68405df",
   "metadata": {},
   "outputs": [],
   "source": [
    "# 1. max_tokens - 생성할 최대 토큰 수 제한\n",
    "response = client.chat.completions.create(\n",
    "    model=\"gpt-4o\",\n",
    "    messages=messages,\n",
    "    max_tokens=50\n",
    ")"
   ]
  },
  {
   "cell_type": "code",
   "execution_count": null,
   "id": "fed299c1",
   "metadata": {},
   "outputs": [],
   "source": [
    "# 2. temperature - 출력의 창의성/무작위성 제어 (0~2, 보통 상단은 1.0)\n",
    "# 0.0은 결정적, 1.0은 무작위적(창의적적)\n",
    "response = client.chat.completions.create(\n",
    "    model=\"gpt-4o\",\n",
    "    messages=messages,\n",
    "    temperature=1.0\n",
    ")"
   ]
  },
  {
   "cell_type": "code",
   "execution_count": null,
   "id": "3a6b42a1",
   "metadata": {},
   "outputs": [],
   "source": [
    "# 3. top_p - 출력의 다양성 제어 (0~1), nucleus sampling \n",
    "# 0.2는 상위 20% 확률의 단어만 고려 (작을 수록 가장 유려한 후보 단어 중에서 고름)\n",
    "# temperature를 우선 사용, 둘을 동시에 사용하면 충돌 가능\n",
    "response = client.chat.completions.create(\n",
    "    model=\"gpt-4o\",\n",
    "    messages=messages,\n",
    "    top_p=0.8\n",
    ")"
   ]
  },
  {
   "cell_type": "code",
   "execution_count": null,
   "id": "89ee5b1a",
   "metadata": {},
   "outputs": [],
   "source": [
    "# 4. frequency_penalty - 답변 내에서 같은 단어 반복 감소 (-2.0 ~ 2.0)\n",
    "# 높은 빈도(frequency) 단어에 페널티를 부여함함 --> 값이 높을수록 다른 유사 단어로 대체\n",
    "response = client.chat.completions.create(\n",
    "    model=\"gpt-4o\",\n",
    "    messages=messages,\n",
    "    frequency_penalty=0.5\n",
    ")"
   ]
  },
  {
   "cell_type": "code",
   "execution_count": null,
   "id": "8b6b5b0c",
   "metadata": {},
   "outputs": [],
   "source": [
    "# 5. presence_penalty - 새로운 주제 언급 유도 (-2.0 ~ 2.0)\n",
    "# 한 번 등장했던(presence) 단어에 페널티를 부여함함 --> 값이 높을수록 새로운 주제 언급을 하게 됨\n",
    "response = client.chat.completions.create(\n",
    "    model=\"gpt-4o\",\n",
    "    messages=messages,\n",
    "    presence_penalty=0.6\n",
    ")"
   ]
  },
  {
   "cell_type": "code",
   "execution_count": null,
   "id": "8a3bdaa8",
   "metadata": {},
   "outputs": [],
   "source": [
    "# 6. stop - 응답을 멈출 문자열 지정\n",
    "response = client.chat.completions.create(\n",
    "    model=\"gpt-4o\",\n",
    "    messages=messages,\n",
    "    stop=[\"지원자:\"]\n",
    ")"
   ]
  },
  {
   "cell_type": "code",
   "execution_count": null,
   "id": "9ae534c1",
   "metadata": {},
   "outputs": [],
   "source": [
    "# 7. response_format - 출력 포맷 설정 (e.g., 'json')\n",
    "response = client.chat.completions.create(\n",
    "    model=\"gpt-4o\",\n",
    "    messages=messages,\n",
    "    response_format=\"json\"\n",
    ")"
   ]
  },
  {
   "cell_type": "markdown",
   "id": "4dd9ab69",
   "metadata": {},
   "source": [
    "## 생성 제어 파라미터 종합 "
   ]
  },
  {
   "cell_type": "code",
   "execution_count": null,
   "id": "9975e8bc",
   "metadata": {},
   "outputs": [],
   "source": [
    "# 종합\n",
    "response = client.chat.completions.create(\n",
    "    model=\"gpt-4o\",\n",
    "    messages=messages,\n",
    "    max_completion_tokens=100,\n",
    "    temperature=1.0,  #top_p=0.1,\n",
    "    frequency_penalty=1.0,\n",
    "    presence_penalty=1.0,\n",
    ")"
   ]
  },
  {
   "cell_type": "markdown",
   "id": "27716072",
   "metadata": {},
   "source": [
    "## 응답 확인"
   ]
  },
  {
   "cell_type": "code",
   "execution_count": 8,
   "id": "55f3fedd",
   "metadata": {},
   "outputs": [
    {
     "name": "stdout",
     "output_type": "stream",
     "text": [
      "아보카도는 다양한 건강상의 이점을 제공합니다. 아래 표는 아보카도의 주요 효능을 정리한 것입니다.\n",
      "\n",
      "| **효능**                   | **설명**                                                                                                                                   |\n",
      "|----------------------------|----------------------------------------------------------------------------------------------------------------------------------------|\n",
      "| 풍부한 영양소 공급         | 아보카도에는 비타민 K, C, B5, B6, E와 엽산 및 칼륨이 풍부하게 포함되어 있어 전반적인 건강 유지에\n"
     ]
    }
   ],
   "source": [
    "# print(response.output_text)\n",
    "\n",
    "print(response.choices[0].message.content)"
   ]
  }
 ],
 "metadata": {
  "kernelspec": {
   "display_name": "myenv",
   "language": "python",
   "name": "python3"
  },
  "language_info": {
   "codemirror_mode": {
    "name": "ipython",
    "version": 3
   },
   "file_extension": ".py",
   "mimetype": "text/x-python",
   "name": "python",
   "nbconvert_exporter": "python",
   "pygments_lexer": "ipython3",
   "version": "3.12.3"
  }
 },
 "nbformat": 4,
 "nbformat_minor": 5
}
