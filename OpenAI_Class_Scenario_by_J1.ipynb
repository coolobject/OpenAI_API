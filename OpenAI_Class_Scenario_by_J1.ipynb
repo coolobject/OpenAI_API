{
 "cells": [
  {
   "cell_type": "markdown",
   "id": "a5282895",
   "metadata": {},
   "source": [
    "# 🎯 첫 번째 날: 실습 환경 소개 및 기본 구성하기\n",
    "---\n",
    "\n",
    "> 소요시간: 1시간 (09:30 ~ 10:20)\n",
    "\n",
    "- OpenAI 사이트 접속 및 API Docs 사이트에서 본인 계정 생성하기\n",
    "  - OpenAI의 강사가 만들어둔 프로젝트: `teamJ1`에 사용자 등록하기\n",
    "  - API Key 과금체계 설명\n",
    "\n",
    "- 수업 조교 역할인 chatGPT 띄워놓기 (KPC 유료 제공 가능한가?)\n",
    "\n",
    "- 수업자료 다운로드\n",
    "  - 강사 github 사이트에 접속하여 샘플 코드 다운로드 하기\n",
    "  - 로컬PC에 작업 디렉토리 생성하고 github 파일 압축 풀기\n",
    "\n",
    "- 개발도구 설치하기 (github에 설치파일 링크)\n",
    "  - Python 3.12.x 이상\n",
    "  - VSCode 1.99.3 이상"
   ]
  },
  {
   "cell_type": "markdown",
   "id": "b7e85ebb",
   "metadata": {},
   "source": [
    "# OpenAI Playground 실습\n",
    "---\n",
    "> 소요시간: 오전 2시간 (10:30 ~ 12:20)\n",
    "- API Key 추가 설명"
   ]
  },
  {
   "cell_type": "code",
   "execution_count": 30,
   "id": "dc0e2da8",
   "metadata": {},
   "outputs": [],
   "source": [
    "# ✅ 설치 및 API Key 설정\n",
    "import os\n",
    "from dotenv import load_dotenv\n",
    "from openai import OpenAI\n",
    "\n",
    "# ─────────────────────────────────────────────\n",
    "# 환경 변수에서 OpenAI API 키 로드\n",
    "# ─────────────────────────────────────────────\n",
    "load_dotenv()\n",
    "OpenAI.api_key = os.getenv(\"OPENAI_API_KEY\")"
   ]
  },
  {
   "cell_type": "markdown",
   "id": "7d8bf2f2",
   "metadata": {},
   "source": [
    "## 1️. GPT 모델 & 온도 비교"
   ]
  },
  {
   "cell_type": "code",
   "execution_count": null,
   "id": "2220bcc3",
   "metadata": {},
   "outputs": [],
   "source": [
    "client = OpenAI()\n",
    "response = client.responses.create(\n",
    "    model=\"gpt-3.5-turbo\",\n",
    "    input=\"도쿄 여행 일정을 3일로 추천해줘.\",\n",
    "    temperature=0.2\n",
    ")\n",
    "print(response.output_text)"
   ]
  },
  {
   "cell_type": "markdown",
   "id": "aa58e30a",
   "metadata": {},
   "source": [
    "> Playground 에서 실습한 후 코드 복사하여 직접 실행해볼 수 있습니다."
   ]
  },
  {
   "cell_type": "code",
   "execution_count": null,
   "id": "6cbba32e",
   "metadata": {},
   "outputs": [],
   "source": [
    "from openai import OpenAI\n",
    "client = OpenAI()\n",
    "\n",
    "response = client.responses.create(\n",
    "  model=\"gpt-3.5-turbo\",\n",
    "  input=[\n",
    "    {\n",
    "      \"role\": \"user\",\n",
    "      \"content\": [\n",
    "        {\n",
    "          \"type\": \"input_text\",\n",
    "          \"text\": \"도쿄 여행 일정을 3일로 추천해줘.\"\n",
    "        }\n",
    "      ]\n",
    "    }\n",
    "  ],\n",
    "  text={\n",
    "    \"format\": {\n",
    "      \"type\": \"text\"\n",
    "    }\n",
    "  },\n",
    "  reasoning={},\n",
    "  tools=[],\n",
    "  temperature=0.7,\n",
    "  max_output_tokens=512,\n",
    "  top_p=1,\n",
    "  store=True\n",
    ")\n",
    "\n",
    "print(response.output_text)"
   ]
  },
  {
   "cell_type": "markdown",
   "id": "00cbae0d",
   "metadata": {},
   "source": [
    "## 2️. JSON 형식 출력 실습\n",
    "\n",
    "> GPT의 응답(response) 객체에 대해서는 추가적으로 오후에 연습합니다."
   ]
  },
  {
   "cell_type": "code",
   "execution_count": 11,
   "id": "72f3795d",
   "metadata": {},
   "outputs": [
    {
     "name": "stdout",
     "output_type": "stream",
     "text": [
      "{\n",
      "    \"이름\": \"김철수\",\n",
      "    \"나이\": 35,\n",
      "    \"관심사\": [\"음악\", \"코딩\", \"여행\"]\n",
      "}\n"
     ]
    }
   ],
   "source": [
    "prompt = \"\"\"\n",
    "다음 정보를 JSON으로 정리해줘:\n",
    "이름: 김철수, 나이: 35, 관심사: 음악, 코딩, 여행\n",
    "\"\"\"\n",
    "\n",
    "from openai import OpenAI\n",
    "client = OpenAI()\n",
    "\n",
    "response = client.responses.create(\n",
    "  model=\"gpt-3.5-turbo\",\n",
    "  input=[\n",
    "    {\n",
    "      \"role\": \"user\",\n",
    "      \"content\": [\n",
    "        {\n",
    "          \"type\": \"input_text\",\n",
    "          \"text\": prompt\n",
    "        }\n",
    "      ]\n",
    "    }\n",
    "  ],\n",
    "  text={\n",
    "    \"format\": {\n",
    "      \"type\": \"json_object\"\n",
    "    }\n",
    "  },\n",
    "  reasoning={},\n",
    "  tools=[],\n",
    "  temperature=0.7,\n",
    "  max_output_tokens=512,\n",
    "  top_p=1,\n",
    "  store=True\n",
    ")\n",
    "\n",
    "print(response.output_text)"
   ]
  },
  {
   "cell_type": "markdown",
   "id": "e616e368",
   "metadata": {},
   "source": [
    "## 3️. 역할 지정 및 문체 제어"
   ]
  },
  {
   "cell_type": "code",
   "execution_count": null,
   "id": "ba30c482",
   "metadata": {},
   "outputs": [],
   "source": [
    "from openai import OpenAI\n",
    "client = OpenAI()\n",
    "\n",
    "response = client.responses.create(\n",
    "  model=\"gpt-3.5-turbo\",\n",
    "  input=[\n",
    "    {\n",
    "      \"role\": \"system\",\n",
    "      \"content\": [\n",
    "        {\n",
    "          \"type\": \"input_text\",\n",
    "          \"text\": \"당신은 뉴스 편집자입니다. 요청 내용을 뉴스 기사 스타일로 써주세요.\"\n",
    "        }\n",
    "      ]\n",
    "    },\n",
    "    {\n",
    "      \"role\": \"user\",\n",
    "      \"content\": [\n",
    "        {\n",
    "          \"type\": \"input_text\",\n",
    "          \"text\": \"이번 주말엔 전국적으로 비가 올 예정입니다. 특히 강원도와 충청권에서는 강한 비가 예상됩니다.\"\n",
    "        }\n",
    "      ]\n",
    "    }\n",
    "  ],\n",
    "  text={\n",
    "    \"format\": {\n",
    "      \"type\": \"text\"\n",
    "    }\n",
    "  },\n",
    "  reasoning={},\n",
    "  tools=[],\n",
    "  temperature=0.5,\n",
    "  max_output_tokens=512,\n",
    "  top_p=1,\n",
    "  store=True\n",
    ")\n",
    "\n",
    "print(response.output_text)"
   ]
  },
  {
   "cell_type": "markdown",
   "id": "1079bb71",
   "metadata": {},
   "source": [
    "## 4️. Stop Sequence 예시 (Completion 전용)\n",
    "\n",
    "> Completion 모드에서는 `stop` 인자를 사용하여 출력 중단 가능하며, chatGPT와 대화형 구성이 가능합니다.  \n",
    "> 이를 위해서 심플한 `인터뷰 챗봇`을 구성해보겠습니다."
   ]
  },
  {
   "cell_type": "code",
   "execution_count": null,
   "id": "cccbe9af",
   "metadata": {},
   "outputs": [],
   "source": [
    "from openai import OpenAI\n",
    "client = OpenAI()\n",
    "# Playground 상 System Message에 입력하는 Prompt: \n",
    "# 당신은 인터뷰 시뮬레이터입니다. User는 '지원자' 역할로 답변합니다. \n",
    "# 당신은 응답 시 다음 형식을 반드시 따릅니다:\n",
    "# - 모범답안: (지원자의 답변을 바탕으로 한 이상적인 답변 예시)\n",
    "# - 면접관: (다음 질문)\n",
    "# - 지원자: \n",
    "\n",
    "response = client.chat.completions.create(\n",
    "  model=\"chatgpt-4o-latest\",\n",
    "  messages=[\n",
    "    {\n",
    "      \"role\": \"system\",\n",
    "      \"content\": [\n",
    "        {\n",
    "          \"type\": \"text\",\n",
    "          \"text\": \"당신은 인터뷰 시뮬레이터입니다. User는 '지원자' 역할로 답변합니다. \\n당신은 응답 시 다음 형식을 반드시 따릅니다:\\n- 모범답안: (지원자의 답변을 바탕으로 한 이상적인 답변 예시)\\n- 면접관: (다음 질문)\\n- 지원자: \"\n",
    "        }\n",
    "      ]\n",
    "    },\n",
    "    {\n",
    "      \"role\": \"user\",\n",
    "      \"content\": [\n",
    "        {\n",
    "          \"type\": \"text\",\n",
    "          \"text\": \"마켓컬리의 데이터사이언티스트 경력직 지원을 하기 위한 면접 연습을 할꺼야. 면접관 질문 줘.\"\n",
    "        }\n",
    "      ]\n",
    "    }\n",
    "  ],\n",
    "  temperature=0.7,\n",
    "  max_completion_tokens=600,\n",
    "  stop=[\"지원자\"],\n",
    "  top_p=1,\n",
    "  frequency_penalty=0,\n",
    "  presence_penalty=0,\n",
    "  store=False\n",
    ")"
   ]
  },
  {
   "cell_type": "code",
   "execution_count": null,
   "id": "e2009e69",
   "metadata": {},
   "outputs": [],
   "source": [
    "print(response.choices[0].message.content)"
   ]
  },
  {
   "cell_type": "markdown",
   "id": "d34a7853",
   "metadata": {},
   "source": [
    "## 5. Assistants 예시\n",
    "\n",
    "> 소요시간: 오전 시간 마무리 (11:30 ~ 12:30)\n",
    "\n",
    "- 인터뷰 챗봇을 최근 기능인 `assistant` 기능을 이용해서 구성할 수도 있음\n",
    "- 두 번째 날 `Streamlit` 을 이용해서 챗봇 화면을 직접 구현할 예정임"
   ]
  },
  {
   "cell_type": "code",
   "execution_count": null,
   "id": "86f9e748",
   "metadata": {},
   "outputs": [],
   "source": [
    "import openai\n",
    "import time\n",
    "\n",
    "# OpenAI 클라이언트 인스턴스 생성 (1.78.0 버전 이상)\n",
    "client = openai.OpenAI()\n",
    "\n",
    "# 1. Assistant 생성 (면접 연습 전용)\n",
    "assistant = client.beta.assistants.create(\n",
    "    name=\"면접 코치 GPT\",\n",
    "    instructions=(\n",
    "        \"당신은 사용자의 답변을 평가하고 다음을 제공합니다:\\n\"\n",
    "        \"1. STAR 기법 기반의 모범답안\\n\"\n",
    "        \"2. 척도 평가 (논리성, 구체성, 관련성: 각 5점 척도)\\n\"\n",
    "        \"3. 다음 면접 질문\\n\\n\"\n",
    "        \"출력 형식은 다음과 같습니다:\\n\"\n",
    "        \"모범답안:\\n...\\n\\n\"\n",
    "        \"척도 평가:\\n- 논리성: /5\\n- 구체성: /5\\n- 관련성: /5\\n\\n\"\n",
    "        \"면접관: (다음 질문)\"\n",
    "    ),\n",
    "    model=\"gpt-4o\"\n",
    ")\n",
    "\n",
    "# 2. Thread 생성\n",
    "thread = client.beta.threads.create()\n",
    "\n",
    "# 3. 사용자 메시지 추가\n",
    "user_input = (\n",
    "    \"면접관: 우리 회사에 지원하게 된 동기가 무엇인가요?\\n\"\n",
    "    \"지원자: 저는 유통 업계 데이터를 분석하며 실시간 대응의 중요성을 체감했고...\"\n",
    ")\n",
    "client.beta.threads.messages.create(\n",
    "    thread_id=thread.id,\n",
    "    role=\"user\",\n",
    "    content=user_input\n",
    ")\n",
    "\n",
    "# 4. Run 실행\n",
    "run = client.beta.threads.runs.create(\n",
    "    thread_id=thread.id,\n",
    "    assistant_id=assistant.id\n",
    ")\n",
    "\n",
    "# 5. 응답 완료 대기\n",
    "print(\"⏳ 면접 코치 GPT의 응답을 기다리는 중...\")\n",
    "while True:\n",
    "    run_status = client.beta.threads.runs.retrieve(thread_id=thread.id, run_id=run.id)\n",
    "    if run_status.status == \"completed\":\n",
    "        break\n",
    "    elif run_status.status == \"failed\":\n",
    "        raise RuntimeError(\"❌ Assistant 실행 실패\")\n",
    "    time.sleep(1)\n",
    "\n",
    "# 6. Assistant 응답 출력\n",
    "messages = client.beta.threads.messages.list(thread_id=thread.id)\n",
    "assistant_reply = messages.data[0].content[0].text.value\n",
    "print(\"\\n📢 면접 코치 GPT의 응답:\\n\")\n",
    "print(assistant_reply)\n"
   ]
  },
  {
   "cell_type": "markdown",
   "id": "5429c2d5",
   "metadata": {},
   "source": [
    "# Day1 점심시간 \n",
    "---\n",
    "> 시간: 12:30 ~ 13:30"
   ]
  },
  {
   "cell_type": "markdown",
   "id": "ee7d2596",
   "metadata": {},
   "source": [
    "# Python 실습 환경 구성 및 API Docs 실습코드 실행\n",
    "---\n",
    "\n",
    "> 소요시간: 오후 3시간 (13:30 ~ 16:30)\n",
    "- `.env` 파일로 API Key 안전하게 관리하기\n",
    "- 함수화된 프롬프트 템플릿 만들기\n",
    "- 멀티모달 API 실행해보기\n",
    "  - 이미지 (Dall-e)\n",
    "  - 구조화 된 텍스트\n",
    "  - 음성 (TTS, STT)"
   ]
  },
  {
   "cell_type": "code",
   "execution_count": 27,
   "id": "aac9117f",
   "metadata": {},
   "outputs": [],
   "source": [
    "import openai\n",
    "import os\n",
    "from dotenv import load_dotenv\n",
    "\n",
    "load_dotenv()\n",
    "openai.api_key = os.getenv(\"OPENAI_API_KEY\")\n",
    "\n",
    "def call_gpt(prompt: str, model=\"gpt-4o\", temperature=0.7):\n",
    "    response = openai.chat.completions.create(\n",
    "        model=model,\n",
    "        messages=[{\"role\": \"user\", \"content\": prompt}],\n",
    "        temperature=temperature\n",
    "    )\n",
    "    return response.choices[0].message.content\n"
   ]
  },
  {
   "cell_type": "code",
   "execution_count": 28,
   "id": "c78dc016",
   "metadata": {},
   "outputs": [],
   "source": [
    "def interview_prompt_template(question: str, answer: str) -> str:\n",
    "    return (\n",
    "        f\"면접관: {question}\\n\"\n",
    "        f\"지원자: {answer}\\n\"\n",
    "        \"이 답변에 대해 STAR 기법 기반 모범답안을 제시하고, \"\n",
    "        \"논리성, 구체성, 관련성 척도 평가 후 다음 질문을 해주세요.\"\n",
    "    )\n"
   ]
  },
  {
   "cell_type": "code",
   "execution_count": null,
   "id": "1d8a8a1a",
   "metadata": {},
   "outputs": [],
   "source": [
    "if __name__ == \"__main__\":\n",
    "    q = \"우리 회사에 지원한 동기를 말씀해주세요.\"\n",
    "    a = \"저는 금융 데이터 분석에 관심이 많고...\"\n",
    "    prompt = interview_prompt_template(q, a)\n",
    "    print(call_gpt(prompt))"
   ]
  },
  {
   "cell_type": "markdown",
   "id": "b66232e7",
   "metadata": {},
   "source": [
    "## 1. 기본 텍스트 출력하기\n",
    "\n",
    "- 해리포터 1권 요약하기\n",
    "> - d1_Generate text from a model.py\n",
    "> - d1-Extend the model with tools.py"
   ]
  },
  {
   "cell_type": "markdown",
   "id": "c4824409",
   "metadata": {},
   "source": [
    "## 2. 구조화된 데이터 추출하기\n",
    "\n",
    "- 해리포터 1권 요약 스크립트 만들기\n",
    "> - d1_Structured data extraction.py\n",
    "> - chat_json.ipynb"
   ]
  },
  {
   "cell_type": "markdown",
   "id": "cbe2b174",
   "metadata": {},
   "source": [
    "## 3. 포스터 이미지 만들기\n",
    "\n",
    "- 구조화된 데이터 기반의 이미지 생성 및\n",
    "- 모델 간 차이 비교하기 (ex. 지브리스타일)\n",
    "> - d1_Generate img.py\n",
    "> - d1_Analyze the content of an image.py"
   ]
  },
  {
   "cell_type": "markdown",
   "id": "6430eaae",
   "metadata": {},
   "source": [
    "## 4. 오디오 파일 만들기\n",
    "\n",
    "- 모델 간 차이 비교하기 (기본 TTS Vs. 풍부한 LLM 기반)\n",
    "> d1_AudioOutput.py\n",
    "  - 샘플 오디오는 playground에서 만들수 있음"
   ]
  },
  {
   "cell_type": "markdown",
   "id": "d14693c8",
   "metadata": {},
   "source": [
    "## 5. 음성 파일을 텍스트로 받아적기\n",
    "- 통역 기능 확인하기 \n",
    "> d1_AudioInput.py  \n",
    "> 구글 gtts 확인하기: d1_tts_gtts.py"
   ]
  },
  {
   "cell_type": "markdown",
   "id": "2d4780d0",
   "metadata": {},
   "source": [
    "# Day1 수행 내용 정리 및 복습하기\n",
    "---\n",
    "\n",
    "> 소요시간: 오후 1시간(16:30 ~ 17:30)\n",
    "- Q&A\n",
    "- 당일 API Key 폐기"
   ]
  },
  {
   "cell_type": "markdown",
   "id": "68195dba",
   "metadata": {},
   "source": [
    "# 🎯 두 번째 날: Streamlit 인터뷰 챗봇 실습 구성 예시\n",
    "---\n",
    "> 소요시간: 오전 3시간 (09:30 ~ 12:30)\n",
    "- 첫 째날 수행 내용 리뷰 및 실습환경 정상 동작 확인\n",
    "  - VSCode 띄우기\n",
    "  - Python 가상환경 실행하기 (Python Interpreter `myenv` 까지 실행)\n",
    "- 둘 째날 실습환경 구성하기\n",
    "  - API Key 새로 다운로드 (.env 파일)\n",
    "  - Streamlit 사이트 접속\n",
    "  - Streamlit 설치하기\n",
    "- Streamlit 샘플 코드 실행하기"
   ]
  },
  {
   "cell_type": "markdown",
   "id": "380381e8",
   "metadata": {},
   "source": [
    "## 1. Streamlit First App 만들기\n",
    "> docs.streamlit.io/get-started/tutorials/create-an-app#create-your-first-app\n"
   ]
  },
  {
   "cell_type": "markdown",
   "id": "4061030d",
   "metadata": {},
   "source": [
    "## 2. Streamlit Text 연습\n",
    "> d2_st_text.py"
   ]
  },
  {
   "cell_type": "markdown",
   "id": "642f11a7",
   "metadata": {},
   "source": [
    "## 3. Streamlit Input 위젯 만들기\n",
    "> docs.streamlit.io/develop/api-reference/widgets#input-widgets"
   ]
  },
  {
   "cell_type": "markdown",
   "id": "2e589243",
   "metadata": {},
   "source": [
    "## 4. Streamlit Chat 창 만들기\n",
    "> docs.streamlit.io/develop/api-reference/chat#chat-elements"
   ]
  },
  {
   "cell_type": "markdown",
   "id": "941b845a",
   "metadata": {},
   "source": [
    "# Day2 점심시간 \n",
    "---\n",
    "> 시간: 12:30 ~ 13:30"
   ]
  },
  {
   "cell_type": "markdown",
   "id": "83227253",
   "metadata": {},
   "source": [
    "# Streamlit 챗봇 구현하기\n",
    "---\n",
    "\n",
    "> 소요시간: 오후 3시간 (13:30 ~ 16:30)\n",
    "- Day1에 작성한 함수화된 프롬프트 템플릿 불러오기\n",
    "- Streamlit 구성하기 "
   ]
  },
  {
   "cell_type": "markdown",
   "id": "27a15a31",
   "metadata": {},
   "source": [
    "# Day2 수행 내용 정리 및 확장 방안 제시\n",
    "---\n",
    "\n",
    "> 소요시간: 오후 1시간(16:30 ~ 17:30)\n",
    "- Q&A\n",
    "- 당일 API Key 폐기"
   ]
  }
 ],
 "metadata": {
  "kernelspec": {
   "display_name": "myenv",
   "language": "python",
   "name": "python3"
  },
  "language_info": {
   "codemirror_mode": {
    "name": "ipython",
    "version": 3
   },
   "file_extension": ".py",
   "mimetype": "text/x-python",
   "name": "python",
   "nbconvert_exporter": "python",
   "pygments_lexer": "ipython3",
   "version": "3.12.3"
  }
 },
 "nbformat": 4,
 "nbformat_minor": 5
}
