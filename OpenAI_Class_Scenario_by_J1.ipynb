{
 "cells": [
  {
   "cell_type": "markdown",
   "id": "a5282895",
   "metadata": {},
   "source": [
    "# 🎯 첫째 날 - 오전 세션\n",
    "## ✨ CH01 : 실습 환경 소개 및 기본 구성하기\n",
    "\n",
    "> 소요시간: 1시간 (09:30 ~ 10:30)"
   ]
  },
  {
   "cell_type": "markdown",
   "id": "e472925c",
   "metadata": {},
   "source": [
    "### 🛠️ 설치하기 (예상소요시간 : 40분) \n",
    "  - OpenAI 사이트 접속 및 API Docs 사이트에서 본인 계정 생성하기\n",
    "    - API Key 과금체계 설명\n",
    "    - (방법1) OpenAI의 강사가 만들어둔 프로젝트: `teamJ1`에 사용자 등록하기\n",
    "    - (방법2) `Service Account`의 API Key 사용\n",
    "\n",
    "  - 수업 조교 역할인 chatGPT 띄워놓기 (유료)\n",
    "\n",
    "  - 수업자료 다운로드\n",
    "    - 강사 github 사이트에 접속하여 샘플 코드 다운로드 하기\n",
    "    - 로컬PC에 작업 디렉토리 생성하고 github 파일 압축 풀기\n",
    "\n",
    "  - 개발도구 설치하기 (github에 설치파일 링크)\n",
    "    - Python 3.12.x 이상\n",
    "    - VSCode 1.99.3 이상\n",
    "    - VSCode Extension 설치"
   ]
  },
  {
   "cell_type": "markdown",
   "id": "bbf3c422",
   "metadata": {},
   "source": [
    "### 👣 따라하기 (예상 소요시간: 10분)\n",
    "  - VSCode 익숙해지기\n",
    "  - 주피터 실행환경 익숙해지기\n",
    "---"
   ]
  },
  {
   "cell_type": "markdown",
   "id": "57ad785d",
   "metadata": {},
   "source": [
    "> 소요시간 : 1시간 (10:30 ~ 11:30)\n",
    "\n",
    "### 💚 Demo (10분)\n",
    "- 둘째날 오후에 실행할 Streamlit에서 구현한 챗봇 \n",
    "\n",
    "### 💻 실습하기 (10분)\n",
    "- VSCode에서 샘플 이용해서 직접 변경 및 실행하기\n",
    "- UI, 단축키 익숙해지기"
   ]
  },
  {
   "cell_type": "markdown",
   "id": "98c95406",
   "metadata": {},
   "source": [
    "### 💡 이론설명 (10분)\n",
    "- Python 가상환경 설명\n",
    "- OpenAI API의 Client와 모델서버\n",
    "- Front-end 개발환경 Streamlit"
   ]
  },
  {
   "cell_type": "markdown",
   "id": "c60aa85c",
   "metadata": {},
   "source": [
    "### 👣 따라하기 (10분)\n",
    "- python 가상환경 만들기\n",
    "\n",
    "### 💻 실습하기 (10분)\n",
    "- ch01_env 만들어보기\n",
    "---"
   ]
  },
  {
   "cell_type": "markdown",
   "id": "b7e85ebb",
   "metadata": {},
   "source": [
    "## ✨ CH02 : OpenAI 기본 실습, 프롬프트 조정, 과금체계 확인\n",
    "> 소요시간 1시간 (11:30 ~ 12:30)"
   ]
  },
  {
   "cell_type": "code",
   "execution_count": null,
   "id": "dc0e2da8",
   "metadata": {},
   "outputs": [],
   "source": [
    "# ✅ 설치 및 API Key 설정\n",
    "import os\n",
    "from dotenv import load_dotenv\n",
    "from openai import OpenAI\n",
    "\n",
    "# ─────────────────────────────────────────────\n",
    "# 환경 변수에서 OpenAI API 키 로드\n",
    "# ─────────────────────────────────────────────\n",
    "load_dotenv()\n",
    "OpenAI.api_key = os.getenv(\"OPENAI_API_KEY\")"
   ]
  },
  {
   "cell_type": "markdown",
   "id": "8a01b089",
   "metadata": {},
   "source": [
    "### 💡 이론설명 (10분)\n",
    "- `.env` 파일로 API Key 안전하게 보관하고, .gitignore에 추가\n",
    "- OpenAI의 주요 프롬프트 설정 값"
   ]
  },
  {
   "cell_type": "code",
   "execution_count": null,
   "id": "2220bcc3",
   "metadata": {},
   "outputs": [],
   "source": [
    "client = OpenAI()\n",
    "response = client.responses.create(\n",
    "    model=\"gpt-3.5-turbo\",\n",
    "    input=\"도쿄 여행 일정을 3일로 추천해줘.\",\n",
    "    temperature=0.2\n",
    ")\n",
    "print(response.output_text)"
   ]
  },
  {
   "cell_type": "markdown",
   "id": "aa58e30a",
   "metadata": {},
   "source": [
    "> Playground 에서 실습한 후 코드 복사하여 직접 실행해볼 수 있습니다."
   ]
  },
  {
   "cell_type": "code",
   "execution_count": null,
   "id": "6cbba32e",
   "metadata": {},
   "outputs": [],
   "source": [
    "from openai import OpenAI\n",
    "client = OpenAI()\n",
    "\n",
    "response = client.responses.create(\n",
    "  model=\"gpt-3.5-turbo\",\n",
    "  input=[\n",
    "    {\n",
    "      \"role\": \"user\",\n",
    "      \"content\": [\n",
    "        {\n",
    "          \"type\": \"input_text\",\n",
    "          \"text\": \"도쿄 여행 일정을 3일로 추천해줘.\"\n",
    "        }\n",
    "      ]\n",
    "    }\n",
    "  ],\n",
    "  text={\n",
    "    \"format\": {\n",
    "      \"type\": \"text\"\n",
    "    }\n",
    "  },\n",
    "  reasoning={},\n",
    "  tools=[],\n",
    "  temperature=0.7,\n",
    "  max_output_tokens=512,\n",
    "  top_p=1,\n",
    "  store=True\n",
    ")\n",
    "\n",
    "print(response.output_text)"
   ]
  },
  {
   "cell_type": "markdown",
   "id": "00cbae0d",
   "metadata": {},
   "source": [
    "### 👣 따라하기 (10분)\n",
    "- 2. JSON 형식 출력 실습"
   ]
  },
  {
   "cell_type": "code",
   "execution_count": null,
   "id": "72f3795d",
   "metadata": {},
   "outputs": [],
   "source": [
    "prompt = \"\"\"\n",
    "다음 정보를 JSON으로 정리해줘:\n",
    "이름: 김철수, 나이: 35, 관심사: 음악, 코딩, 여행\n",
    "\"\"\"\n",
    "\n",
    "from openai import OpenAI\n",
    "client = OpenAI()\n",
    "\n",
    "response = client.responses.create(\n",
    "  model=\"gpt-3.5-turbo\",\n",
    "  input=[\n",
    "    {\n",
    "      \"role\": \"user\",\n",
    "      \"content\": [\n",
    "        {\n",
    "          \"type\": \"input_text\",\n",
    "          \"text\": prompt\n",
    "        }\n",
    "      ]\n",
    "    }\n",
    "  ],\n",
    "  text={\n",
    "    \"format\": {\n",
    "      \"type\": \"json_object\"\n",
    "    }\n",
    "  },\n",
    "  reasoning={},\n",
    "  tools=[],\n",
    "  temperature=0.7,\n",
    "  max_output_tokens=512,\n",
    "  top_p=1,\n",
    "  store=True\n",
    ")\n",
    "\n",
    "print(response.output_text)"
   ]
  },
  {
   "cell_type": "markdown",
   "id": "e616e368",
   "metadata": {},
   "source": [
    "### 👣 따라하기 (10분)\n",
    "- 3. 역할 지정 및 문체 제어"
   ]
  },
  {
   "cell_type": "code",
   "execution_count": null,
   "id": "ba30c482",
   "metadata": {},
   "outputs": [],
   "source": [
    "from openai import OpenAI\n",
    "client = OpenAI()\n",
    "\n",
    "response = client.responses.create(\n",
    "  model=\"gpt-3.5-turbo\",\n",
    "  input=[\n",
    "    {\n",
    "      \"role\": \"system\",\n",
    "      \"content\": [\n",
    "        {\n",
    "          \"type\": \"input_text\",\n",
    "          \"text\": \"당신은 뉴스 편집자입니다. 요청 내용을 뉴스 기사 스타일로 써주세요.\"\n",
    "        }\n",
    "      ]\n",
    "    },\n",
    "    {\n",
    "      \"role\": \"user\",\n",
    "      \"content\": [\n",
    "        {\n",
    "          \"type\": \"input_text\",\n",
    "          \"text\": \"이번 주말엔 전국적으로 비가 올 예정입니다. 특히 강원도와 충청권에서는 강한 비가 예상됩니다.\"\n",
    "        }\n",
    "      ]\n",
    "    }\n",
    "  ],\n",
    "  text={\n",
    "    \"format\": {\n",
    "      \"type\": \"text\"\n",
    "    }\n",
    "  },\n",
    "  reasoning={},\n",
    "  tools=[],\n",
    "  temperature=0.5,\n",
    "  max_output_tokens=512,\n",
    "  top_p=1,\n",
    "  store=True\n",
    ")\n",
    "\n",
    "print(response.output_text)"
   ]
  },
  {
   "cell_type": "markdown",
   "id": "7f7544b6",
   "metadata": {},
   "source": [
    "### 💻 실습하기 (예상 소요시간 : 20분)\n",
    "- temperature, top_p, max_tokens 조정\n",
    "- 신문기사 톤, 심리 상담가 톤 등으로 변경해보기\n",
    "- 내용 요약하고 구조화하기 \n",
    "---"
   ]
  },
  {
   "cell_type": "markdown",
   "id": "7254b6e3",
   "metadata": {},
   "source": [
    "# 🥗 점심시간\n",
    "\n",
    "> 시간: 12:30 ~ 13:30"
   ]
  },
  {
   "cell_type": "markdown",
   "id": "117c0c7b",
   "metadata": {},
   "source": [
    "---\n",
    "# 🎯 첫째 날 - 오후 세션"
   ]
  },
  {
   "cell_type": "markdown",
   "id": "159f8dfb",
   "metadata": {},
   "source": [
    "## ✨ CH03. (멀티모달 API) 이미지 API\n",
    "> 소요시간: 1시간 (13:30 ~ 14:30)"
   ]
  },
  {
   "cell_type": "markdown",
   "id": "e5f2ee14",
   "metadata": {},
   "source": [
    "\n",
    "### 👣 따라하기\n",
    "- Dall-e-2, Dall-e-3 모델 이용한 OpenAI API 시연 및 해설\n",
    "\n",
    "### 💻 실습하기 (예상 소요시간 : 10분)\n",
    "- 모델 별 이미지 비교해보기"
   ]
  },
  {
   "cell_type": "markdown",
   "id": "d6076c2d",
   "metadata": {},
   "source": [
    "## ✨ CH04. (멀티모달 API) 오디오 API\n",
    "### 👣 따라하기\n",
    "- TTS, STT OpenAI API 시연 및 해설\n",
    "\n",
    "### 💻 실습하기 (예상 소요시간 : 20분)\n",
    "- 모델 별 오디오 파일 생성하기\n",
    "- 오디오 자막 스크립트 생성하기"
   ]
  },
  {
   "cell_type": "markdown",
   "id": "4e04353f",
   "metadata": {},
   "source": [
    "---\n",
    "## ✨ CH05. 웹서치 기능 연결 및 기본API 함수화\n",
    "> 소요시간 : 1시간 (14:30 ~ 15:30)\n",
    "\n",
    "### 👣 따라하기\n",
    "- 외부 Tools : 웹서치\n",
    "    - .\\ch05\\exp_web_search.py"
   ]
  },
  {
   "cell_type": "markdown",
   "id": "a86da3ef",
   "metadata": {},
   "source": [
    "### 👣 따라하기\n",
    " - 함수화된 프롬프트 템플릿 만들기\n",
    " - 메인함수 만들기\n",
    "     - .\\ch05\\02_chat_pipeline.ipynb"
   ]
  },
  {
   "cell_type": "code",
   "execution_count": null,
   "id": "aac9117f",
   "metadata": {},
   "outputs": [],
   "source": [
    "import openai\n",
    "import os\n",
    "from dotenv import load_dotenv\n",
    "\n",
    "load_dotenv()\n",
    "openai.api_key = os.getenv(\"OPENAI_API_KEY\")\n",
    "\n",
    "def call_gpt(prompt: str, model=\"gpt-4o\", temperature=0.7):\n",
    "    response = openai.chat.completions.create(\n",
    "        model=model,\n",
    "        messages=[{\"role\": \"user\", \"content\": prompt}],\n",
    "        temperature=temperature\n",
    "    )\n",
    "    return response.choices[0].message.content\n"
   ]
  },
  {
   "cell_type": "code",
   "execution_count": null,
   "id": "c78dc016",
   "metadata": {},
   "outputs": [],
   "source": [
    "def interview_prompt_template(question: str, answer: str) -> str:\n",
    "    return (\n",
    "        f\"면접관: {question}\\n\"\n",
    "        f\"지원자: {answer}\\n\"\n",
    "        \"이 답변에 대해 STAR 기법 기반 모범답안을 제시하고, \"\n",
    "        \"논리성, 구체성, 관련성 척도 평가 후 다음 질문을 해주세요.\"\n",
    "    )\n"
   ]
  },
  {
   "cell_type": "code",
   "execution_count": null,
   "id": "1d8a8a1a",
   "metadata": {},
   "outputs": [],
   "source": [
    "if __name__ == \"__main__\":\n",
    "    q = \"우리 회사에 지원한 동기를 말씀해주세요.\"\n",
    "    a = \"저는 금융 데이터 분석에 관심이 많고...\"\n",
    "    prompt = interview_prompt_template(q, a)\n",
    "    print(call_gpt(prompt))"
   ]
  },
  {
   "cell_type": "markdown",
   "id": "b66232e7",
   "metadata": {},
   "source": [
    "### 💻 실습하기 (예상 소요시간 : 20분)\n",
    "1. 기본 텍스트 출력하기 함수 변환\n",
    "2. 구조화된 데이터 추출하기 함수 변환\n",
    "3. 이미지 만들기 함수 변환 \n",
    "4. 오디오 파일 만들기 함수 변환 \n",
    "5. 음성 파일을 텍스트로 받아적기 함수 변환 \n",
    "6. 메인함수에서 호출하기 \n",
    "---"
   ]
  },
  {
   "cell_type": "markdown",
   "id": "83a254e6",
   "metadata": {},
   "source": [
    "> 소요시간 : 1시간 (15:30 ~ 16:30)"
   ]
  },
  {
   "cell_type": "markdown",
   "id": "acd99ecc",
   "metadata": {},
   "source": [
    "### 👣 따라하기 (10분)\n",
    "- 4️. Stop Sequence 예시 (Completion 전용)\n",
    "\n",
    "> Completion 모드에서는 `stop` 인자를 사용하여 출력 중단 가능하며, chatGPT와 대화형 구성이 가능합니다.  \n",
    "> 이를 위해서 심플한 `인터뷰 챗봇`을 구성해보겠습니다."
   ]
  },
  {
   "cell_type": "code",
   "execution_count": null,
   "id": "0b668188",
   "metadata": {},
   "outputs": [],
   "source": [
    "from openai import OpenAI\n",
    "client = OpenAI()\n",
    "# Playground 상 System Message에 입력하는 Prompt: \n",
    "# 당신은 인터뷰 시뮬레이터입니다. User는 '지원자' 역할로 답변합니다. \n",
    "# 당신은 응답 시 다음 형식을 반드시 따릅니다:\n",
    "# - 모범답안: (지원자의 답변을 바탕으로 한 이상적인 답변 예시)\n",
    "# - 면접관: (다음 질문)\n",
    "# - 지원자: \n",
    "\n",
    "response = client.chat.completions.create(\n",
    "  model=\"chatgpt-4o-latest\",\n",
    "  messages=[\n",
    "    {\n",
    "      \"role\": \"system\",\n",
    "      \"content\": [\n",
    "        {\n",
    "          \"type\": \"text\",\n",
    "          \"text\": \"당신은 인터뷰 시뮬레이터입니다. User는 '지원자' 역할로 답변합니다. \\n당신은 응답 시 다음 형식을 반드시 따릅니다:\\n- 모범답안: (지원자의 답변을 바탕으로 한 이상적인 답변 예시)\\n- 면접관: (다음 질문)\\n- 지원자: \"\n",
    "        }\n",
    "      ]\n",
    "    },\n",
    "    {\n",
    "      \"role\": \"user\",\n",
    "      \"content\": [\n",
    "        {\n",
    "          \"type\": \"text\",\n",
    "          \"text\": \"마켓컬리의 데이터사이언티스트 경력직 지원을 하기 위한 면접 연습을 할꺼야. 면접관 질문 줘.\"\n",
    "        }\n",
    "      ]\n",
    "    }\n",
    "  ],\n",
    "  temperature=0.7,\n",
    "  max_completion_tokens=600,\n",
    "  stop=[\"지원자\"],\n",
    "  top_p=1,\n",
    "  frequency_penalty=0,\n",
    "  presence_penalty=0,\n",
    "  store=False\n",
    ")"
   ]
  },
  {
   "cell_type": "code",
   "execution_count": null,
   "id": "0dd0ebb2",
   "metadata": {},
   "outputs": [],
   "source": [
    "print(response.choices[0].message.content)"
   ]
  },
  {
   "cell_type": "markdown",
   "id": "eabf04b4",
   "metadata": {},
   "source": [
    "### 👣 따라하기 (10분)\n",
    "- 5. Assistants 예시\n",
    "- 인터뷰 챗봇을 최근 기능인 `assistant` 기능을 이용해서 구성할 수도 있음"
   ]
  },
  {
   "cell_type": "code",
   "execution_count": null,
   "id": "1028de50",
   "metadata": {},
   "outputs": [],
   "source": [
    "import openai\n",
    "import time\n",
    "\n",
    "# OpenAI 클라이언트 인스턴스 생성 (1.78.0 버전 이상)\n",
    "client = openai.OpenAI()\n",
    "\n",
    "# 1. Assistant 생성 (면접 연습 전용)\n",
    "assistant = client.beta.assistants.create(\n",
    "    name=\"면접 코치 GPT\",\n",
    "    instructions=(\n",
    "        \"당신은 사용자의 답변을 평가하고 다음을 제공합니다:\\n\"\n",
    "        \"1. STAR 기법 기반의 모범답안\\n\"\n",
    "        \"2. 척도 평가 (논리성, 구체성, 관련성: 각 5점 척도)\\n\"\n",
    "        \"3. 다음 면접 질문\\n\\n\"\n",
    "        \"출력 형식은 다음과 같습니다:\\n\"\n",
    "        \"모범답안:\\n...\\n\\n\"\n",
    "        \"척도 평가:\\n- 논리성: /5\\n- 구체성: /5\\n- 관련성: /5\\n\\n\"\n",
    "        \"면접관: (다음 질문)\"\n",
    "    ),\n",
    "    model=\"gpt-4o\"\n",
    ")\n",
    "\n",
    "# 2. Thread 생성\n",
    "thread = client.beta.threads.create()\n",
    "\n",
    "# 3. 사용자 메시지 추가\n",
    "user_input = (\n",
    "    \"면접관: 우리 회사에 지원하게 된 동기가 무엇인가요?\\n\"\n",
    "    \"지원자: 저는 유통 업계 데이터를 분석하며 실시간 대응의 중요성을 체감했고...\"\n",
    ")\n",
    "client.beta.threads.messages.create(\n",
    "    thread_id=thread.id,\n",
    "    role=\"user\",\n",
    "    content=user_input\n",
    ")\n",
    "\n",
    "# 4. Run 실행\n",
    "run = client.beta.threads.runs.create(\n",
    "    thread_id=thread.id,\n",
    "    assistant_id=assistant.id\n",
    ")\n",
    "\n",
    "# 5. 응답 완료 대기\n",
    "print(\"⏳ 면접 코치 GPT의 응답을 기다리는 중...\")\n",
    "while True:\n",
    "    run_status = client.beta.threads.runs.retrieve(thread_id=thread.id, run_id=run.id)\n",
    "    if run_status.status == \"completed\":\n",
    "        break\n",
    "    elif run_status.status == \"failed\":\n",
    "        raise RuntimeError(\"❌ Assistant 실행 실패\")\n",
    "    time.sleep(1)\n",
    "\n",
    "# 6. Assistant 응답 출력\n",
    "messages = client.beta.threads.messages.list(thread_id=thread.id)\n",
    "assistant_reply = messages.data[0].content[0].text.value\n",
    "print(\"\\n📢 면접 코치 GPT의 응답:\\n\")\n",
    "print(assistant_reply)\n"
   ]
  },
  {
   "cell_type": "markdown",
   "id": "09d003c6",
   "metadata": {},
   "source": [
    "### 💻 실습하기 (20분)\n",
    "- Assistants 이용하여 영어회화 연습기능 구현하기 "
   ]
  },
  {
   "cell_type": "markdown",
   "id": "2d4780d0",
   "metadata": {},
   "source": [
    "---\n",
    "## ✨ CH06 및 첫째 날 수행 내용 정리\n",
    "> 소요시간: 오후 1시간(16:30 ~ 17:30)\n",
    "\n",
    "### 🛠️ 설치하기 (20분)\n",
    "- 둘째 날 실습환경 구성하기\n",
    "  - Streamlit 사이트 접속\n",
    "  - Streamlit 설치하기\n",
    "  - .streamlit\\secrets.toml 파일에 API Key 지정하기\n",
    "\n",
    "### 👣 따라하기 (20분)\n",
    "- Streamlit 샘플 코드 실행하기\n",
    "  - Stream hello\n",
    "\n",
    "### 💚 리뷰 및 Q&A (10분)\n",
    "- ⚠️ API Key 과금 주의 안내\n",
    "---"
   ]
  },
  {
   "cell_type": "markdown",
   "id": "68195dba",
   "metadata": {},
   "source": [
    "# 🎯 둘째 날 - 오전 세션 "
   ]
  },
  {
   "cell_type": "markdown",
   "id": "8c286c06",
   "metadata": {},
   "source": [
    "### ✨ CH06\n",
    "> 소요시간: 1시간 (09:30 ~ 10:30)"
   ]
  },
  {
   "cell_type": "markdown",
   "id": "4acabf7a",
   "metadata": {},
   "source": [
    "\n",
    "### 💡 이론설명 (30분)\n",
    "- RAG, LangChain, 바이브코딩\n",
    "- MCP\n",
    "\n",
    "### 👣 따라하기 (20분)\n",
    "- Streamlit 플레이 그라운드 \n",
    "- Streamlit API Docs\n",
    "---"
   ]
  },
  {
   "cell_type": "markdown",
   "id": "2e589243",
   "metadata": {},
   "source": [
    "### ✨ CH07\n",
    "> 소요시간 : 1시간 (10:30 ~ 11:30)\n"
   ]
  },
  {
   "cell_type": "markdown",
   "id": "072ae74d",
   "metadata": {},
   "source": [
    "### 💻 실습하기 (20분)\n",
    "  - Python 가상환경 실행하기\n",
    "  - Streamlit 실행하기\n",
    "  - Streamlit First App 만들기\n",
    "    > docs.streamlit.io/get-started/tutorials/create-an-app#create-your-first-app\n",
    "  - Streamlit Text 연습\n",
    "  - Streamlit Input 위젯 만들기\n",
    "    > docs.streamlit.io/develop/api-reference/widgets#input-widgets\n",
    "  - Streamlit Layout 만들기"
   ]
  },
  {
   "cell_type": "markdown",
   "id": "6bc377b7",
   "metadata": {},
   "source": [
    "### 👣 따라하기 (20분)\n",
    "- Streamlit Chat 창 만들기\n",
    "- 챗봇 UI구성하기\n",
    "    > docs.streamlit.io/develop/api-reference/chat#chat-elements\n",
    "- echobot 만들기\n",
    "    > https://docs.streamlit.io/develop/tutorials/chat-and-llm-apps"
   ]
  },
  {
   "cell_type": "markdown",
   "id": "641b93e8",
   "metadata": {},
   "source": [
    "### 💡 이론설명 (10분)\n",
    "- 마크다운\n",
    "- 소스코드에 주석달기\n",
    "---"
   ]
  },
  {
   "cell_type": "markdown",
   "id": "ec53f916",
   "metadata": {},
   "source": [
    "### ✨ CH08\n",
    "> 소요시간 : 1시간 (11:30 ~ 12:30)\n",
    "\n",
    "### 👣 따라하기 (20분)\n",
    "- OpenAI 연동하기\n",
    "- ChatGPT-like 챗봇 실행하기 "
   ]
  },
  {
   "cell_type": "markdown",
   "id": "96184054",
   "metadata": {},
   "source": [
    "### 💻 실습하기 (30분)\n",
    "- Sidebar 만들기\n",
    "- 챗봇 UI 구성하기 : 타이틀, chatGPT-clone input 창 넣기\n",
    "- Input Widget 넣기\n",
    "- 텍스트 입력창 넣기\n",
    "- VSCode의 copilot을 이용해서 현재까지의 코드에 주석달기\n",
    "---"
   ]
  },
  {
   "cell_type": "markdown",
   "id": "941b845a",
   "metadata": {},
   "source": [
    "# 🥗 점심시간"
   ]
  },
  {
   "cell_type": "markdown",
   "id": "83da9262",
   "metadata": {},
   "source": [
    "---\n",
    "# 🎯 둘째 날 - 오후 세션"
   ]
  },
  {
   "cell_type": "markdown",
   "id": "ae9ee744",
   "metadata": {},
   "source": [
    "### ✨ CH09\n",
    "> 소요시간 : 1시간 (13:30 ~ 14:30)\n",
    "\n",
    "### 👣 따라하기 (20분)\n",
    "- 이미지 업로드 기능 구현하기\n",
    "- 이전 세션에 만들어 둔 챗봇과 연동하기\n",
    "\n",
    "### 💻 실습하기 (30분)\n",
    "- ChatGPT 이용하여 오류 내용 확인하고 수정하기\n",
    "- 이미지 업로드 기능 포함된 챗봇 완성하기\n",
    "---"
   ]
  },
  {
   "cell_type": "markdown",
   "id": "4265ea2d",
   "metadata": {},
   "source": [
    "### ✨ CH10\n",
    "> 소요시간 : 1시간 (14:30 ~ 15:30)\n",
    "\n",
    "### 👣 따라하기 (20분)\n",
    "- 소스 리팩토링하기\n",
    "- Streamlit 앱 스토어에 등록하기\n",
    "\n",
    "### 💻 실습하기 (30분)\n",
    "- 소스 리팩토링하기\n",
    "- Streamlit 앱 스토어에 등록하기\n",
    "\n",
    "---"
   ]
  },
  {
   "cell_type": "markdown",
   "id": "2ae42557",
   "metadata": {},
   "source": [
    "### ✨ CH11\n",
    "> 소요시간 : 1시간 (15:30 ~ 16:30)\n",
    "### 💡 이론설명 (30분)\n",
    "- github에 소스 관리하기\n",
    "\n",
    "### 👣 따라하기 (20분)\n",
    "- github 설치하기\n",
    "---"
   ]
  },
  {
   "cell_type": "markdown",
   "id": "c71b39cf",
   "metadata": {},
   "source": [
    "### ✨ CH12\n",
    "> 소요시간 : 1시간 (16:30 ~ 17:30)\n",
    "\n",
    "### 💚 Demo (30분)\n",
    "- ChatGPT 외 타 생성형AI 도구 이용한 확장 방안\n",
    "- Claude IDE 바이브코딩 시연\n",
    "- Claude AI 이용한 MCP 시연 \n",
    "\n",
    "### 💚 리뷰 및 Q&A (20분)\n",
    "- API Key 폐기 \n",
    "---"
   ]
  }
 ],
 "metadata": {
  "kernelspec": {
   "display_name": "myenv",
   "language": "python",
   "name": "python3"
  },
  "language_info": {
   "codemirror_mode": {
    "name": "ipython",
    "version": 3
   },
   "file_extension": ".py",
   "mimetype": "text/x-python",
   "name": "python",
   "nbconvert_exporter": "python",
   "pygments_lexer": "ipython3",
   "version": "3.12.3"
  }
 },
 "nbformat": 4,
 "nbformat_minor": 5
}
