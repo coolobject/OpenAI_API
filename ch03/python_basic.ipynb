{
 "cells": [
  {
   "cell_type": "markdown",
   "id": "1d487e45",
   "metadata": {},
   "source": [
    "# 🧪 Python 기초 실습 \n",
    "- OpenAI API를 사용하기 위한 Python 기초부터 단계별로 구성되어 있습니다.\n",
    "- 각 셀을 순서대로 실행하며 Python의 개념과 사용법을 익혀보세요."
   ]
  },
  {
   "cell_type": "code",
   "execution_count": null,
   "metadata": {},
   "outputs": [],
   "source": [
    "# 1. print() 함수로 출력해보기\n",
    "print(\"Hello, Python!\")\n",
    "print(\"OpenAI API 수업을 시작합니다.\")"
   ]
  },
  {
   "cell_type": "code",
   "execution_count": null,
   "metadata": {},
   "outputs": [],
   "source": [
    "# 2. 변수와 자료형\n",
    "name = \"Alice\"\n",
    "age = 28\n",
    "is_student = True\n",
    "\n",
    "print(\"이름:\", name)\n",
    "print(\"나이:\", age)\n",
    "print(\"학생인가요?\", is_student)"
   ]
  },
  {
   "cell_type": "code",
   "execution_count": null,
   "metadata": {},
   "outputs": [],
   "source": [
    "# 3. 문자열 다루기\n",
    "greeting = \"Hello\"\n",
    "target = \"World\"\n",
    "\n",
    "message = greeting + \", \" + target + \"!\"\n",
    "print(message)\n",
    "\n",
    "# 문자열 포맷\n",
    "print(f\"{greeting}, {target}!\")"
   ]
  },
  {
   "cell_type": "code",
   "execution_count": null,
   "metadata": {},
   "outputs": [],
   "source": [
    "# 4. 리스트 만들기와 인덱싱\n",
    "colors = [\"red\", \"green\", \"blue\"]\n",
    "\n",
    "print(\"첫 번째 색:\", colors[0])\n",
    "print(\"전체 리스트:\", colors)"
   ]
  },
  {
   "cell_type": "code",
   "execution_count": null,
   "metadata": {},
   "outputs": [],
   "source": [
    "# 5. 리스트에 항목 추가하기\n",
    "fruits = [\"apple\", \"banana\"]\n",
    "fruits.append(\"grape\")\n",
    "print(\"추가된 리스트:\", fruits)"
   ]
  },
  {
   "cell_type": "code",
   "execution_count": null,
   "metadata": {},
   "outputs": [],
   "source": [
    "# 6. 리스트 반복 처리하기\n",
    "animals = [\"cat\", \"dog\", \"rabbit\"]\n",
    "\n",
    "for animal in animals:\n",
    "    print(\"동물:\", animal)"
   ]
  },
  {
   "cell_type": "code",
   "execution_count": null,
   "metadata": {},
   "outputs": [],
   "source": [
    "# 7. 리스트에서 조건에 맞는 항목만 출력하기\n",
    "numbers = [1, 2, 3, 4, 5, 6]\n",
    "\n",
    "for num in numbers:\n",
    "    if num % 2 == 0:\n",
    "        print(\"짝수:\", num)"
   ]
  },
  {
   "cell_type": "code",
   "execution_count": null,
   "metadata": {},
   "outputs": [],
   "source": [
    "# 8. 딕셔너리 만들기\n",
    "person = {\n",
    "    \"name\": \"Bob\",\n",
    "    \"age\": 32,\n",
    "    \"job\": \"developer\"\n",
    "}\n",
    "\n",
    "print(\"이름:\", person[\"name\"])\n",
    "print(\"직업:\", person[\"job\"])"
   ]
  },
  {
   "cell_type": "code",
   "execution_count": null,
   "metadata": {},
   "outputs": [],
   "source": [
    "# 9. 딕셔너리 반복 처리하기\n",
    "scores = {\n",
    "    \"math\": 90,\n",
    "    \"english\": 85,\n",
    "    \"science\": 95\n",
    "}\n",
    "\n",
    "for subject, score in scores.items():\n",
    "    print(subject, \"점수:\", score)"
   ]
  },
  {
   "cell_type": "code",
   "execution_count": null,
   "metadata": {},
   "outputs": [],
   "source": [
    "# 10. 딕셔너리 리스트 처리하기\n",
    "students = [\n",
    "    {\"name\": \"Alice\", \"age\": 23},\n",
    "    {\"name\": \"Bob\", \"age\": 25}\n",
    "]\n",
    "\n",
    "for student in students:\n",
    "    print(student[\"name\"], \"의 나이는\", student[\"age\"])"
   ]
  },
  {
   "cell_type": "code",
   "execution_count": null,
   "metadata": {},
   "outputs": [],
   "source": [
    "# 11. 함수를 만들어 이름 출력하기\n",
    "def greet(name):\n",
    "    print(f\"안녕하세요, {name}님!\")\n",
    "\n",
    "greet(\"지민\")"
   ]
  },
  {
   "cell_type": "code",
   "execution_count": null,
   "metadata": {},
   "outputs": [],
   "source": [
    "# 12. 리스트를 받아 반복 출력하는 함수\n",
    "def print_fruits(fruits):\n",
    "    for fruit in fruits:\n",
    "        print(\"과일:\", fruit)\n",
    "\n",
    "print_fruits([\"apple\", \"banana\", \"grape\"])"
   ]
  },
  {
   "cell_type": "code",
   "execution_count": null,
   "metadata": {},
   "outputs": [],
   "source": [
    "# 13. 딕셔너리에서 특정 항목만 출력하는 함수\n",
    "def print_job(person):\n",
    "    print(\"직업은:\", person.get(\"job\", \"정보 없음\"))\n",
    "\n",
    "print_job({\"name\": \"Dana\", \"job\": \"designer\"})"
   ]
  },
  {
   "cell_type": "code",
   "execution_count": null,
   "metadata": {},
   "outputs": [],
   "source": [
    "# 14. 조건에 따라 다른 메시지 출력 함수\n",
    "def check_age(age):\n",
    "    if age >= 18:\n",
    "        print(\"성인입니다.\")\n",
    "    else:\n",
    "        print(\"미성년자입니다.\")\n",
    "\n",
    "check_age(20)\n",
    "check_age(15)"
   ]
  },
  {
   "cell_type": "code",
   "execution_count": null,
   "id": "9892e044",
   "metadata": {},
   "outputs": [],
   "source": [
    "# 15. 점수 리스트를 받아 평균 점수를 계산하는 함수\n",
    "def calculate_average(scores):\n",
    "    total = sum(scores)\n",
    "    average = total / len(scores)\n",
    "    print(\"평균 점수:\", average)\n",
    "\n",
    "calculate_average([80, 90, 85, 70])"
   ]
  },
  {
   "cell_type": "code",
   "execution_count": null,
   "id": "d462935f",
   "metadata": {},
   "outputs": [],
   "source": [
    "# 16. import 구문을 사용해서 다른 기능(모듈)을 불러올 수 있습니다.\n",
    "import math\n",
    "\n",
    "print(\"파이:\", math.pi)\n",
    "print(\"제곱근(16):\", math.sqrt(16))"
   ]
  },
  {
   "cell_type": "code",
   "execution_count": null,
   "id": "eee39e86",
   "metadata": {},
   "outputs": [],
   "source": [
    "# 17. 텍스트 파일에 문자열을 저장하는 예제\n",
    "with open(\"sample.txt\", \"w\", encoding=\"utf-8\") as f:\n",
    "    f.write(\"안녕하세요!\\n이 파일은 Python으로 작성했습니다.\")\n",
    "    \n",
    "print(\"파일 저장 완료!\")"
   ]
  },
  {
   "cell_type": "code",
   "execution_count": null,
   "id": "590de555",
   "metadata": {},
   "outputs": [],
   "source": [
    "# 18. 앞서 저장한 텍스트 파일을 다시 읽는 예제\n",
    "with open(\"sample.txt\", \"r\", encoding=\"utf-8\") as f:\n",
    "    content = f.read()\n",
    "\n",
    "print(\"파일 내용:\")\n",
    "print(content)"
   ]
  },
  {
   "cell_type": "code",
   "execution_count": null,
   "id": "3eab7b0d",
   "metadata": {},
   "outputs": [],
   "source": [
    "# 19. 외부 라이브러리를 설치\n",
    "# Jupyter Notebook 에서는 %, 일반 python 파일에서는 !로 명령어 실행 가능\n",
    "# !pip install requests\n",
    "\n",
    "%pip install requests"
   ]
  },
  {
   "cell_type": "code",
   "execution_count": null,
   "id": "10be246d",
   "metadata": {},
   "outputs": [],
   "source": [
    "# 20. 설치 후 실제 사용 예\n",
    "import requests\n",
    "\n",
    "response = requests.get(\"https://api.github.com\")\n",
    "print(\"요청 결과 상태 코드:\", response.status_code)"
   ]
  },
  {
   "cell_type": "code",
   "execution_count": null,
   "id": "ffa568af",
   "metadata": {},
   "outputs": [],
   "source": [
    "# 21. 사용자의 이름을 입력받아 인사하기\n",
    "name = input(\"이름을 입력하세요: \")\n",
    "print(\"안녕하세요,\", name, \"님!\")\n"
   ]
  },
  {
   "cell_type": "code",
   "execution_count": null,
   "id": "e4d0af2a",
   "metadata": {},
   "outputs": [],
   "source": [
    "# 22. 사용자가 'exit'를 입력할 때까지 계속 입력을 받는 예제\n",
    "while True:\n",
    "    text = input(\"하고 싶은 말을 입력하세요 (종료하려면 'exit' 입력): \")\n",
    "    if text.lower() == \"exit\":\n",
    "        print(\"종료합니다.\")\n",
    "        break\n",
    "    print(\"입력한 말:\", text)\n"
   ]
  },
  {
   "cell_type": "markdown",
   "id": "b03cbc3e",
   "metadata": {},
   "source": [
    "# 🧪 조건문 & 파일 인코딩 연습\n",
    "Streamlit 챗봇 실습을 위한 Python 기초 확장"
   ]
  },
  {
   "cell_type": "markdown",
   "id": "3cdb91f2",
   "metadata": {},
   "source": [
    "### ✅ 연습 1"
   ]
  },
  {
   "cell_type": "code",
   "execution_count": null,
   "id": "03e61d53",
   "metadata": {},
   "outputs": [],
   "source": [
    "# ✅ 연습 1: 파일 확장자 확인\n",
    "file_name = \"report.pdf\"\n",
    "\n",
    "if file_name.endswith(\".pdf\"):\n",
    "    print(\"PDF 파일입니다.\")\n",
    "elif file_name.endswith(\".jpg\") or file_name.endswith(\".png\"):\n",
    "    print(\"이미지 파일입니다.\")\n",
    "else:\n",
    "    print(\"지원하지 않는 형식입니다.\")"
   ]
  },
  {
   "cell_type": "markdown",
   "id": "b646a65f",
   "metadata": {},
   "source": [
    "### ✅ 연습 2"
   ]
  },
  {
   "cell_type": "code",
   "execution_count": null,
   "id": "7dc1bc41",
   "metadata": {},
   "outputs": [],
   "source": [
    "# ✅ 연습 2: 업로드한 파일 타입 분기 처리\n",
    "uploaded_type = \"image/jpeg\"  # 예: streamlit에서 uploaded_file.type\n",
    "\n",
    "if \"pdf\" in uploaded_type:\n",
    "    print(\"PDF 문서를 분석합니다.\")\n",
    "elif \"image\" in uploaded_type:\n",
    "    print(\"이미지를 분석합니다.\")\n",
    "else:\n",
    "    print(\"알 수 없는 형식입니다.\")"
   ]
  },
  {
   "cell_type": "markdown",
   "id": "340f1b89",
   "metadata": {},
   "source": [
    "### ✅ 연습 3"
   ]
  },
  {
   "cell_type": "code",
   "execution_count": null,
   "id": "18e8e24b",
   "metadata": {},
   "outputs": [],
   "source": [
    "# ✅ 연습 3: 텍스트 파일 base64 인코딩\n",
    "import base64\n",
    "\n",
    "with open(\"sample.txt\", \"rb\") as file:\n",
    "    encoded = base64.b64encode(file.read()).decode(\"utf-8\")\n",
    "\n",
    "print(\"인코딩된 문자열 일부:\", encoded[:100])"
   ]
  },
  {
   "cell_type": "markdown",
   "id": "cabe771c",
   "metadata": {},
   "source": [
    "### ✅ 연습 4"
   ]
  },
  {
   "cell_type": "code",
   "execution_count": null,
   "id": "b32825c1",
   "metadata": {},
   "outputs": [],
   "source": [
    "# ✅ 연습 4: 이미지 → base64 → Data URL\n",
    "import base64\n",
    "\n",
    "image_path = \"sample.jpg\"\n",
    "with open(image_path, \"rb\") as img:\n",
    "    encoded = base64.b64encode(img.read()).decode(\"utf-8\")\n",
    "\n",
    "mime = \"image/jpeg\"\n",
    "data_url = f\"data:{mime};base64,{encoded}\"\n",
    "print(\"Data URL 일부:\", data_url[:100])"
   ]
  },
  {
   "cell_type": "markdown",
   "id": "a57aba54",
   "metadata": {},
   "source": [
    "### ✅ 연습 5"
   ]
  },
  {
   "cell_type": "code",
   "execution_count": null,
   "id": "14cf65e1",
   "metadata": {},
   "outputs": [],
   "source": [
    "# ✅ 연습 5: 인코딩된 문자열 길이에 따른 분기\n",
    "encoded_length = 2500  # 예시 값\n",
    "\n",
    "if encoded_length > 3000:\n",
    "    print(\"대용량 파일입니다.\")\n",
    "elif encoded_length > 1000:\n",
    "    print(\"중간 크기 파일입니다.\")\n",
    "else:\n",
    "    print(\"작은 파일입니다.\")"
   ]
  }
 ],
 "metadata": {
  "kernelspec": {
   "display_name": "Python 3",
   "language": "python",
   "name": "python3"
  },
  "language_info": {
   "codemirror_mode": {
    "name": "ipython",
    "version": 3
   },
   "file_extension": ".py",
   "mimetype": "text/x-python",
   "name": "python",
   "nbconvert_exporter": "python",
   "pygments_lexer": "ipython3",
   "version": "3.12.3"
  }
 },
 "nbformat": 4,
 "nbformat_minor": 5
}
