{
 "cells": [
  {
   "cell_type": "markdown",
   "metadata": {},
   "source": [
    "# 🧪 JSON 기초 실습 \n",
    "- OpenAI API를 사용하기 위한 JSON 기초부터 총 10단계로 구성되어 있습니다.\n",
    "- 각 셀을 순서대로 실행하며 JSON의 개념과 사용법을 익혀보세요."
   ]
  },
  {
   "cell_type": "code",
   "execution_count": null,
   "metadata": {},
   "outputs": [],
   "source": [
    "# ✅ 1. JSON이란?\n",
    "json_text = '{\"name\": \"Alice\", \"age\": 25}'\n",
    "print(\"JSON 형식 예시:\", json_text)"
   ]
  },
  {
   "cell_type": "code",
   "execution_count": null,
   "metadata": {},
   "outputs": [],
   "source": [
    "# ✅ 2. JSON 문자열 만들기\n",
    "my_json = '{\"fruit\": \"apple\", \"count\": 5, \"in_stock\": true}'\n",
    "print(\"내가 만든 JSON 문자열:\", my_json)"
   ]
  },
  {
   "cell_type": "code",
   "execution_count": null,
   "metadata": {},
   "outputs": [],
   "source": [
    "# ✅ 3. Python 딕셔너리 → JSON 문자열로 변환하기\n",
    "import json\n",
    "\n",
    "person = {\n",
    "    \"name\": \"Bob\",\n",
    "    \"age\": 30,\n",
    "    \"is_student\": False\n",
    "}\n",
    "\n",
    "json_str = json.dumps(person)\n",
    "print(\"JSON 문자열:\", json_str)"
   ]
  },
  {
   "cell_type": "code",
   "execution_count": null,
   "metadata": {},
   "outputs": [],
   "source": [
    "# ✅ 4. JSON 문자열 → Python 딕셔너리로 변환하기\n",
    "import json\n",
    "\n",
    "json_data = '{\"city\": \"Seoul\", \"temperature\": 22}'\n",
    "data = json.loads(json_data)\n",
    "\n",
    "print(\"도시명:\", data[\"city\"])\n",
    "print(\"온도:\", data[\"temperature\"])"
   ]
  },
  {
   "cell_type": "code",
   "execution_count": null,
   "metadata": {},
   "outputs": [],
   "source": [
    "# ✅ 5. JSON 파일 저장하고 불러오기\n",
    "import json\n",
    "\n",
    "info = {\"language\": \"Python\", \"level\": \"beginner\"}\n",
    "\n",
    "with open(\"info.json\", \"w\") as f:\n",
    "    json.dump(info, f)\n",
    "\n",
    "with open(\"info.json\", \"r\") as f:\n",
    "    loaded = json.load(f)\n",
    "\n",
    "print(\"불러온 데이터:\", loaded)"
   ]
  },
  {
   "cell_type": "code",
   "execution_count": null,
   "metadata": {},
   "outputs": [],
   "source": [
    "# ✅ 6. 중첩된 JSON 구조 이해하기\n",
    "person = {\n",
    "    \"name\": \"Jane\",\n",
    "    \"profile\": {\n",
    "        \"email\": \"jane@example.com\",\n",
    "        \"age\": 28\n",
    "    }\n",
    "}\n",
    "\n",
    "print(\"이메일:\", person[\"profile\"][\"email\"])"
   ]
  },
  {
   "cell_type": "code",
   "execution_count": null,
   "metadata": {},
   "outputs": [],
   "source": [
    "# ✅ 7. JSON에서 값 꺼내기\n",
    "response = {\n",
    "    \"choices\": [\n",
    "        {\n",
    "            \"message\": {\n",
    "                \"role\": \"assistant\",\n",
    "                \"content\": \"안녕하세요!\"\n",
    "            }\n",
    "        }\n",
    "    ]\n",
    "}\n",
    "\n",
    "message = response[\"choices\"][0][\"message\"][\"content\"]\n",
    "print(\"GPT의 응답 내용:\", message)"
   ]
  },
  {
   "cell_type": "code",
   "execution_count": null,
   "metadata": {},
   "outputs": [],
   "source": [
    "# ✅ 8. OpenAI API 요청 형식 만들어 보기\n",
    "request = {\n",
    "    \"model\": \"gpt-3.5-turbo\",\n",
    "    \"messages\": [\n",
    "        {\"role\": \"user\", \"content\": \"고양이에 대해 알려줘\"}\n",
    "    ]\n",
    "}\n",
    "\n",
    "import json\n",
    "print(\"API에 보낼 요청 형식:\")\n",
    "print(json.dumps(request, indent=2))"
   ]
  },
  {
   "cell_type": "code",
   "execution_count": null,
   "metadata": {},
   "outputs": [],
   "source": [
    "# ✅ 9. OpenAI 응답 구조 분석하기 (가짜 응답 사용)\n",
    "import json\n",
    "\n",
    "fake_response = '''\n",
    "{\n",
    "  \"choices\": [\n",
    "    {\n",
    "      \"message\": {\n",
    "        \"role\": \"assistant\",\n",
    "        \"content\": \"고양이는 귀엽고 독립적인 동물입니다.\"\n",
    "      }\n",
    "    }\n",
    "  ]\n",
    "}\n",
    "'''\n",
    "\n",
    "data = json.loads(fake_response)\n",
    "answer = data[\"choices\"][0][\"message\"][\"content\"]\n",
    "print(\"응답 내용:\", answer)"
   ]
  },
  {
   "cell_type": "code",
   "execution_count": null,
   "metadata": {},
   "outputs": [],
   "source": [
    "# ✅ 10. 내가 만든 질문을 JSON으로 요청 만들기\n",
    "import json\n",
    "\n",
    "question = input(\"GPT에게 하고 싶은 질문을 입력하세요: \")\n",
    "\n",
    "request = {\n",
    "    \"model\": \"gpt-3.5-turbo\",\n",
    "    \"messages\": [\n",
    "        {\"role\": \"user\", \"content\": question}\n",
    "    ]\n",
    "}\n",
    "\n",
    "print(\"내 질문으로 만든 요청 JSON:\")\n",
    "print(json.dumps(request, indent=2))"
   ]
  }
 ],
 "metadata": {
  "kernelspec": {
   "display_name": "myenv",
   "language": "python",
   "name": "python3"
  },
  "language_info": {
   "codemirror_mode": {
    "name": "ipython",
    "version": 3
   },
   "file_extension": ".py",
   "mimetype": "text/x-python",
   "name": "python",
   "nbconvert_exporter": "python",
   "pygments_lexer": "ipython3",
   "version": "3.12.3"
  }
 },
 "nbformat": 4,
 "nbformat_minor": 5
}
