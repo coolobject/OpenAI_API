{
 "cells": [
  {
   "cell_type": "markdown",
   "id": "a5282895",
   "metadata": {},
   "source": [
    "# 🎯 첫째 날 - 오전 세션\n",
    "## ✨ CH01 : 실습 환경 소개 및 설치\n",
    "\n",
    "> 소요시간: 1시간 (09:30 ~ 10:30)"
   ]
  },
  {
   "cell_type": "markdown",
   "id": "489c10cc",
   "metadata": {},
   "source": [
    "### 💡 과정 소개 (10분)\n",
    "- 전체 일정 확인 "
   ]
  },
  {
   "cell_type": "markdown",
   "id": "e472925c",
   "metadata": {},
   "source": [
    "### 🛠️ 설치하기 (30분) \n",
    "  - OpenAI 사이트 접속 및 API Docs 사이트에서 본인 계정 생성하기\n",
    "    - API Key 과금체계 설명\n",
    "    - (방법1) `Service Account`의 API Key 사용\n",
    "    - (방법2) OpenAI의 강사가 만들어둔 프로젝트: `teamJ1`에 사용자 등록하기\n",
    "\n",
    "  - 수업 조교 역할인 chatGPT 띄워놓기 (유료)\n",
    "\n",
    "  - 수업자료 다운로드\n",
    "    - 강사 github 사이트에 접속하여 샘플 코드 다운로드 하기\n",
    "      https://github.com/coolobject/OpenAI_API\n",
    "    - 로컬PC에 작업 디렉토리 생성하고 github 파일 압축 풀기\n",
    "\n",
    "  - 개발도구 설치하기 (github에 설치파일 링크)\n",
    "    - Python 3.12.x (https://www.python.org/downloads/)\n",
    "    - VSCode 1.100.2  (https://code.visualstudio.com/docs/?dv=win64user)\n",
    "    - VSCode Extension 설치 : Python, Pylance, Jupyter"
   ]
  },
  {
   "cell_type": "markdown",
   "id": "bbf3c422",
   "metadata": {},
   "source": [
    "### 👣 따라하기 (10분)\n",
    "  - VSCode 익숙해지기\n",
    "  - 주피터 실행환경 익숙해지기\n",
    "  - (시간되면) openAI의 API docs 홈페이지 살펴보기 (teamJ1 선택)\n",
    "    - https://platform.openai.com/docs/overview\n",
    "    - https://platform.openai.com/playground/prompts?models=gpt-3.5-turbo\n",
    "---"
   ]
  },
  {
   "cell_type": "markdown",
   "id": "ac1c14a7",
   "metadata": {},
   "source": [
    "## ✨ CH02 : Python 가상환경 생성, 최종 제작물 Demo\n",
    "> 소요시간 : 1시간 (10:30 ~ 11:30)"
   ]
  },
  {
   "cell_type": "markdown",
   "id": "98c95406",
   "metadata": {},
   "source": [
    "### 💡 이론설명 (10분)\n",
    "- Python 가상환경 설명\n",
    "- OpenAI API의 Client와 모델서버 구성 \n",
    "- Front-end 개발환경 Streamlit 간략 소개 "
   ]
  },
  {
   "cell_type": "markdown",
   "id": "407fd390",
   "metadata": {},
   "source": [
    "### 💚 Demo (10분)\n",
    "- 둘째날 오후에 실행할 Streamlit에서 구현한 챗봇 "
   ]
  },
  {
   "cell_type": "markdown",
   "id": "c60aa85c",
   "metadata": {},
   "source": [
    "### 👣 따라하기 (15분)\n",
    "- python 가상환경 만들기\n",
    "\n",
    "0. PowerShell의 권한 허용 \n",
    "1. python -m venv myenv\n",
    "2. .\\myenv\\Scripts\\activate\n",
    "3. (최초 실행 시)\n",
    "    - python -m pip install --upgrade pip\n",
    "    - pip install openai python-dotenv ipykernel\n",
    "    - python -m ipykernel install --user --name=myenv\n",
    "4. deactivate\n",
    "5. (가상환경 삭제 시) rmdir myenv"
   ]
  },
  {
   "cell_type": "markdown",
   "id": "ab056779",
   "metadata": {},
   "source": [
    "\n",
    "### 💻 실습하기 (15분)\n",
    "- ch01_env 만들어보기\n",
    "---"
   ]
  },
  {
   "cell_type": "markdown",
   "id": "bf00530f",
   "metadata": {},
   "source": [
    "## ✨ CH03 : Python, Json 기초 실습\n",
    "> 소요시간 : 1시간 (11:30분 ~ 12시 30분)"
   ]
  },
  {
   "cell_type": "markdown",
   "id": "666ba6f1",
   "metadata": {},
   "source": [
    "### 👣 따라하기 (15분)\n",
    "- Python 기본 문법 "
   ]
  },
  {
   "cell_type": "code",
   "execution_count": 24,
   "id": "a8f3577c",
   "metadata": {},
   "outputs": [
    {
     "name": "stdout",
     "output_type": "stream",
     "text": [
      "Hello, Python!\n",
      "OpenAI API 수업을 시작합니다.\n"
     ]
    }
   ],
   "source": [
    "# 1. print() 함수로 출력해보기\n",
    "print(\"Hello, Python!\")\n",
    "print(\"OpenAI API 수업을 시작합니다.\")"
   ]
  },
  {
   "cell_type": "code",
   "execution_count": 25,
   "id": "0df06b17",
   "metadata": {},
   "outputs": [
    {
     "name": "stdout",
     "output_type": "stream",
     "text": [
      "이름: Alice\n",
      "나이: 28\n",
      "학생인가요? True\n"
     ]
    }
   ],
   "source": [
    "# 2. 변수와 자료형 (문자열, 숫자, 불리언)\n",
    "name = \"Alice\"\n",
    "age = 28\n",
    "is_student = True\n",
    "\n",
    "print(\"이름:\", name)\n",
    "print(\"나이:\", age)\n",
    "print(\"학생인가요?\", is_student)"
   ]
  },
  {
   "cell_type": "code",
   "execution_count": 26,
   "id": "3372173e",
   "metadata": {},
   "outputs": [
    {
     "name": "stdout",
     "output_type": "stream",
     "text": [
      "Hello, World!\n",
      "Hello, World!\n"
     ]
    }
   ],
   "source": [
    "# 3. 문자열 다루기\n",
    "greeting = \"Hello\"\n",
    "target = \"World\"\n",
    "\n",
    "message = greeting + \", \" + target + \"!\"\n",
    "print(message)\n",
    "\n",
    "# 문자열 포맷\n",
    "print(f\"{greeting}, {target}!\")"
   ]
  },
  {
   "cell_type": "code",
   "execution_count": 27,
   "id": "c2ce8f15",
   "metadata": {},
   "outputs": [
    {
     "name": "stdout",
     "output_type": "stream",
     "text": [
      "덧셈: 13\n",
      "나눗셈: 3.3333333333333335\n",
      "나머지: 1\n",
      "거듭제곱: 1000\n"
     ]
    }
   ],
   "source": [
    "# 4. 숫자 계산과 변수\n",
    "x = 10\n",
    "y = 3\n",
    "\n",
    "print(\"덧셈:\", x + y)\n",
    "print(\"나눗셈:\", x / y)\n",
    "print(\"나머지:\", x % y)\n",
    "print(\"거듭제곱:\", x ** y)"
   ]
  },
  {
   "cell_type": "code",
   "execution_count": 28,
   "id": "b2acc03d",
   "metadata": {},
   "outputs": [
    {
     "name": "stdout",
     "output_type": "stream",
     "text": [
      "첫 번째 색: red\n",
      "전체 리스트: ['red', 'green', 'blue']\n",
      "추가 후: ['red', 'green', 'blue', 'yellow']\n"
     ]
    }
   ],
   "source": [
    "# 5. 리스트와 인덱싱\n",
    "colors = [\"red\", \"green\", \"blue\"]\n",
    "\n",
    "print(\"첫 번째 색:\", colors[0])\n",
    "print(\"전체 리스트:\", colors)\n",
    "\n",
    "# 리스트에 항목 추가\n",
    "colors.append(\"yellow\")\n",
    "print(\"추가 후:\", colors)"
   ]
  },
  {
   "cell_type": "code",
   "execution_count": 29,
   "id": "a39764b5",
   "metadata": {},
   "outputs": [
    {
     "name": "stdout",
     "output_type": "stream",
     "text": [
      "과일 이름: apple\n",
      "과일 이름: banana\n",
      "과일 이름: grape\n"
     ]
    }
   ],
   "source": [
    "# 6. 리스트와 반복문\n",
    "fruits = [\"apple\", \"banana\", \"grape\"]\n",
    "\n",
    "for fruit in fruits:\n",
    "    print(\"과일 이름:\", fruit)"
   ]
  },
  {
   "cell_type": "code",
   "execution_count": 30,
   "id": "e0676efd",
   "metadata": {},
   "outputs": [
    {
     "name": "stdout",
     "output_type": "stream",
     "text": [
      "이름: Bob\n",
      "직업: developer\n"
     ]
    }
   ],
   "source": [
    "# 7. 딕셔너리 사용하기\n",
    "person = {\n",
    "    \"name\": \"Bob\",\n",
    "    \"age\": 32,\n",
    "    \"job\": \"developer\"\n",
    "}\n",
    "\n",
    "print(\"이름:\", person[\"name\"])\n",
    "print(\"직업:\", person[\"job\"])"
   ]
  },
  {
   "cell_type": "code",
   "execution_count": null,
   "id": "8ac2c414",
   "metadata": {},
   "outputs": [
    {
     "name": "stdout",
     "output_type": "stream",
     "text": [
      "성인입니다.\n"
     ]
    }
   ],
   "source": [
    "# 8. 조건문 if-else\n",
    "age = 20\n",
    "\n",
    "if age >= 18:\n",
    "    print(\"성인입니다.\")\n",
    "else:\n",
    "    print(\"미성년자입니다.\")"
   ]
  },
  {
   "cell_type": "code",
   "execution_count": 32,
   "id": "ef094fc3",
   "metadata": {},
   "outputs": [
    {
     "name": "stdout",
     "output_type": "stream",
     "text": [
      "안녕하세요, 지민님!\n",
      "안녕하세요, 서준님!\n"
     ]
    }
   ],
   "source": [
    "# 9. 함수 만들기와 사용하기\n",
    "def greet(name):\n",
    "    print(f\"안녕하세요, {name}님!\")\n",
    "\n",
    "greet(\"지민\")\n",
    "greet(\"서준\")"
   ]
  },
  {
   "cell_type": "code",
   "execution_count": 33,
   "id": "f09ed592",
   "metadata": {},
   "outputs": [
    {
     "name": "stdout",
     "output_type": "stream",
     "text": [
      "환영합니다,  님!\n"
     ]
    }
   ],
   "source": [
    "# 10. 사용자 입력 받기\n",
    "name = input(\"이름을 입력하세요: \")\n",
    "print(\"환영합니다,\", name, \"님!\")"
   ]
  },
  {
   "cell_type": "markdown",
   "id": "3e73c273",
   "metadata": {},
   "source": [
    "### 💻 실습하기 (15분)"
   ]
  },
  {
   "cell_type": "markdown",
   "id": "404bb172",
   "metadata": {},
   "source": [
    "### 👣 따라하기 (15분)\n",
    "- Json(키-값 구조를 가진 문자열 포맷) 기본 문법 "
   ]
  },
  {
   "cell_type": "code",
   "execution_count": null,
   "id": "c9b5faa9",
   "metadata": {},
   "outputs": [],
   "source": [
    "# JSON 문자열 만들기\n",
    "json_string = '{\"name\": \"Alice\", \"age\": 30, \"is_student\": false}'\n",
    "print(json_string)"
   ]
  },
  {
   "cell_type": "code",
   "execution_count": null,
   "id": "8dd594af",
   "metadata": {},
   "outputs": [],
   "source": [
    "# Python 딕셔너리 → JSON 문자열로 변환\n",
    "import json\n",
    "\n",
    "data = {\n",
    "    \"name\": \"Alice\",\n",
    "    \"age\": 30,\n",
    "    \"is_student\": False\n",
    "}\n",
    "json_string = json.dumps(data, indent=2)\n",
    "print(json_string)"
   ]
  },
  {
   "cell_type": "code",
   "execution_count": null,
   "id": "be83113c",
   "metadata": {},
   "outputs": [],
   "source": [
    "# JSON 문자열 → Python 딕셔너리로 변환\n",
    "import json\n",
    "\n",
    "json_string = '{\"name\": \"Bob\", \"age\": 25}'\n",
    "data = json.loads(json_string)\n",
    "print(data['name'], data['age'])"
   ]
  },
  {
   "cell_type": "code",
   "execution_count": null,
   "id": "77b0b022",
   "metadata": {},
   "outputs": [],
   "source": [
    "# JSON 파일 저장 및 불러오기\n",
    "import json\n",
    "\n",
    "data = {\"language\": \"Python\", \"level\": \"Beginner\"}\n",
    "\n",
    "# 저장\n",
    "with open(\"example.json\", \"w\") as f:\n",
    "    json.dump(data, f)\n",
    "\n",
    "# 불러오기\n",
    "with open(\"example.json\", \"r\") as f:\n",
    "    loaded = json.load(f)\n",
    "print(loaded)"
   ]
  },
  {
   "cell_type": "code",
   "execution_count": null,
   "id": "642d1cad",
   "metadata": {},
   "outputs": [],
   "source": [
    "# 중첩된 JSON 구조 이해\n",
    "person = {\n",
    "    \"name\": \"Alice\",\n",
    "    \"skills\": [\"Python\", \"Machine Learning\"],\n",
    "    \"profile\": {\n",
    "        \"email\": \"alice@example.com\",\n",
    "        \"age\": 30\n",
    "    }\n",
    "}\n",
    "print(person['profile']['email'])"
   ]
  },
  {
   "cell_type": "code",
   "execution_count": null,
   "id": "c95a08d4",
   "metadata": {},
   "outputs": [],
   "source": [
    "# JSON에서 값 꺼내기\n",
    "response = {\n",
    "    \"choices\": [\n",
    "        {\"message\": {\"role\": \"assistant\", \"content\": \"Hello!\"}}\n",
    "    ]\n",
    "}\n",
    "print(response['choices'][0]['message']['content'])"
   ]
  },
  {
   "cell_type": "code",
   "execution_count": null,
   "id": "f38ee095",
   "metadata": {},
   "outputs": [],
   "source": [
    "# 간단한 OpenAI API 요청 JSON 만들기\n",
    "request = {\n",
    "    \"model\": \"gpt-3.5-turbo\",\n",
    "    \"messages\": [\n",
    "        {\"role\": \"user\", \"content\": \"Tell me a joke.\"}\n",
    "    ]\n",
    "}\n",
    "print(json.dumps(request, indent=2))"
   ]
  },
  {
   "cell_type": "code",
   "execution_count": null,
   "id": "6c1326dd",
   "metadata": {},
   "outputs": [],
   "source": [
    "# 응답 JSON 구조 분석\n",
    "response_json = '''\n",
    "{\n",
    "  \"choices\": [\n",
    "    {\n",
    "      \"message\": {\n",
    "        \"role\": \"assistant\",\n",
    "        \"content\": \"Why did the chicken cross the road? To get to the other side!\"\n",
    "      }\n",
    "    }\n",
    "  ]\n",
    "}\n",
    "'''\n",
    "data = json.loads(response_json)\n",
    "print(data['choices'][0]['message']['content'])"
   ]
  },
  {
   "cell_type": "code",
   "execution_count": null,
   "id": "389de874",
   "metadata": {},
   "outputs": [],
   "source": [
    "# 내가 만든 질문을 JSON으로 요청해보기 (모의)\n",
    "my_question = input(\"무엇이든 물어보세요: \")\n",
    "\n",
    "request_json = {\n",
    "    \"model\": \"gpt-3.5-turbo\",\n",
    "    \"messages\": [\n",
    "        {\"role\": \"user\", \"content\": my_question}\n",
    "    ]\n",
    "}\n",
    "\n",
    "print(\"다음 JSON 요청을 OpenAI에 보낼 수 있습니다:\")\n",
    "print(json.dumps(request_json, indent=2))"
   ]
  },
  {
   "cell_type": "markdown",
   "id": "1b8a9f72",
   "metadata": {},
   "source": [
    "### 💻 실습하기 (15분)\n",
    "\n",
    "---"
   ]
  },
  {
   "cell_type": "markdown",
   "id": "7254b6e3",
   "metadata": {},
   "source": [
    "# 🥗 점심시간\n",
    "\n",
    "> 시간: 12:30 ~ 13:30"
   ]
  },
  {
   "cell_type": "markdown",
   "id": "117c0c7b",
   "metadata": {},
   "source": [
    "---\n",
    "# 🎯 첫째 날 - 오후 세션"
   ]
  },
  {
   "cell_type": "markdown",
   "id": "b1f67732",
   "metadata": {},
   "source": [
    "## ✨ CH04 : OpenAI 과금체계 확인, 프롬프트 조정 실습\n",
    "> 소요시간 1시간 (13:30 ~ 14:30)"
   ]
  },
  {
   "cell_type": "markdown",
   "id": "8a4ea0de",
   "metadata": {},
   "source": [
    "https://platform.openai.com/docs/guides/responses-vs-chat-completions"
   ]
  },
  {
   "cell_type": "markdown",
   "id": "38719340",
   "metadata": {},
   "source": [
    "### 💡 이론설명 (10분)\n",
    "- `.env` 파일로 API Key 안전하게 보관하고, .gitignore에 추가\n",
    "- OpenAI의 주요 프롬프트 설정 값"
   ]
  },
  {
   "cell_type": "code",
   "execution_count": null,
   "id": "6c665b5e",
   "metadata": {},
   "outputs": [],
   "source": [
    "# ✅ 설치 및 API Key 설정\n",
    "import os\n",
    "from dotenv import load_dotenv\n",
    "from openai import OpenAI\n",
    "\n",
    "# ─────────────────────────────────────────────\n",
    "# 환경 변수에서 OpenAI API 키 로드\n",
    "# ─────────────────────────────────────────────\n",
    "load_dotenv()\n",
    "OpenAI.api_key = os.getenv(\"OPENAI_API_KEY\")"
   ]
  },
  {
   "cell_type": "markdown",
   "id": "54223689",
   "metadata": {},
   "source": [
    "> Playground 에서 실습한 후 코드 복사하여 직접 실행해볼 수 있습니다."
   ]
  },
  {
   "cell_type": "markdown",
   "id": "c9743bd1",
   "metadata": {},
   "source": [
    "### 👣 따라하기 (20분)\n",
    "- prompt_basics.ipynb"
   ]
  },
  {
   "cell_type": "markdown",
   "id": "0d492a79",
   "metadata": {},
   "source": [
    "### 💻 실습하기 (20분)\n",
    "1. 신문기사 스타일\n",
    "2. 공감력 좋은 상담가 스타일\n",
    "3. Opic 답변 시 다양한 어휘를 구사하는 AL 레벨 모범답안 스타일\n",
    "---"
   ]
  },
  {
   "cell_type": "markdown",
   "id": "159f8dfb",
   "metadata": {},
   "source": [
    "## ✨ CH05. (멀티모달 API) 이미지, 오디오 \n",
    "> 소요시간: 1시간 (14:30 ~ 15:30)"
   ]
  },
  {
   "cell_type": "markdown",
   "id": "e5f2ee14",
   "metadata": {},
   "source": [
    "### 💡 이론설명 (10분)\n",
    "- client의 각 패키지 소개 \n",
    "  - client.chat.completions.create()\n",
    "  - client.images.generate()\n",
    "  - client.audio.transcriptions.create()\n",
    "  - client.embeddings.create()"
   ]
  },
  {
   "cell_type": "markdown",
   "id": "219de702",
   "metadata": {},
   "source": [
    "### 👣 따라하기 (10분)\n",
    "- Dall-e-2, Dall-e-3 모델 이용한 OpenAI API 시연 및 해설"
   ]
  },
  {
   "cell_type": "markdown",
   "id": "34b4b197",
   "metadata": {},
   "source": [
    "### 💻 실습하기 (10분)\n",
    "- 모델 별 이미지 비교해보기"
   ]
  },
  {
   "cell_type": "markdown",
   "id": "d6076c2d",
   "metadata": {},
   "source": [
    "### 👣 따라하기 (10분)\n",
    "- TTS, STT OpenAI API 시연 및 해설\n",
    "\n",
    "### 💻 실습하기 (10분)\n",
    "----"
   ]
  },
  {
   "cell_type": "markdown",
   "id": "4e04353f",
   "metadata": {},
   "source": [
    "## ✨ CH06. 파일 업로드, 웹서치 기능 연결\n",
    "> 소요시간 : 1시간 (15:30 ~ 16:30)"
   ]
  },
  {
   "cell_type": "markdown",
   "id": "e1189fb0",
   "metadata": {},
   "source": [
    "### 👣 따라하기 (15분)\n",
    "- 파일 업로드\n",
    "- 외부 Tools : 웹서치"
   ]
  },
  {
   "cell_type": "markdown",
   "id": "a86da3ef",
   "metadata": {},
   "source": [
    "### 👣 따라하기 (15분)\n",
    " - 함수화된 프롬프트 템플릿 만들기\n",
    " - 메인함수 만들기"
   ]
  },
  {
   "cell_type": "markdown",
   "id": "b66232e7",
   "metadata": {},
   "source": [
    "### 💻 실습하기 (20분)\n",
    "1. 기본 텍스트 출력하기 함수 변환\n",
    "2. 구조화된 데이터 추출하기 함수 변환\n",
    "3. 이미지 만들기 함수 변환 \n",
    "4. 오디오 파일 만들기 함수 변환 \n",
    "5. 음성 파일을 텍스트로 받아적기 함수 변환 \n",
    "6. 메인함수에서 호출하기 \n",
    "---"
   ]
  },
  {
   "cell_type": "markdown",
   "id": "d3a18c0a",
   "metadata": {},
   "source": [
    "## ✨ Ch07 : Stop Sequence - 인터뷰 챗봇 제작 \n",
    "> 소요시간 : 1시간 (16:30 ~ 17:30)"
   ]
  },
  {
   "cell_type": "markdown",
   "id": "acd99ecc",
   "metadata": {},
   "source": [
    "### 👣 따라하기 (15분)\n",
    "- Stop Sequence 예시 (Completion 전용)\n",
    "  - Completion 모드에서 `stop` 인자를 사용하여 출력 중단 기능 확인 \n",
    "  - 대화형 GPT 구성\n",
    "  - `인터뷰 챗봇` 구성"
   ]
  },
  {
   "cell_type": "markdown",
   "id": "eabf04b4",
   "metadata": {},
   "source": [
    "### 👣 따라하기 (15분)\n",
    "- Assistants 예시\n",
    "- 인터뷰 챗봇을 최근 기능인 `assistant` 기능을 이용해서 구성할 수도 있음"
   ]
  },
  {
   "cell_type": "markdown",
   "id": "09d003c6",
   "metadata": {},
   "source": [
    "### 💻 실습하기 (25분)\n",
    "- Stop Sequence 이용하여 영어회화 연습기능 구현하기 \n",
    "----"
   ]
  },
  {
   "cell_type": "markdown",
   "id": "433a2b9a",
   "metadata": {},
   "source": [
    "# 🎯 둘째 날 - 오전 세션 "
   ]
  },
  {
   "cell_type": "markdown",
   "id": "2d4780d0",
   "metadata": {},
   "source": [
    "## ✨ CH08 : Day1 리뷰 및 Streamlit 설치\n",
    "> 소요시간 : 오전 1시간 (09:30 ~ 10:30)"
   ]
  },
  {
   "cell_type": "markdown",
   "id": "4e9a3ec4",
   "metadata": {},
   "source": [
    "### 💡 이론설명 (10분)\n",
    "- Day1 리뷰 "
   ]
  },
  {
   "cell_type": "markdown",
   "id": "3758f25d",
   "metadata": {},
   "source": [
    "### 🛠️ 설치하기 (20분)\n",
    "- 둘째 날 실습환경 구성하기\n",
    "  - Streamlit 사이트 접속\n",
    "  - Streamlit 설치하기\n",
    "  - .streamlit\\secrets.toml 파일에 API Key 지정하기\n",
    "\n",
    "### 👣 따라하기 (20분)\n",
    "- Streamlit 샘플 코드 실행하기\n",
    "  - Stream hello\n",
    "---"
   ]
  },
  {
   "cell_type": "markdown",
   "id": "8c286c06",
   "metadata": {},
   "source": [
    "## ✨ CH09 : Streamlit 플레이 그라운드 \n",
    "> 소요시간: 1시간 (10:30 ~ 11:30)"
   ]
  },
  {
   "cell_type": "markdown",
   "id": "705cd67e",
   "metadata": {},
   "source": [
    "### 👣 따라하기 (25분)\n",
    "- Streamlit 플레이 그라운드 \n",
    "- Streamlit API Docs"
   ]
  },
  {
   "cell_type": "markdown",
   "id": "072ae74d",
   "metadata": {},
   "source": [
    "### 💻 실습하기 (25분)\n",
    "  - Python 가상환경 실행하기\n",
    "  - Streamlit 실행하기\n",
    "  - Streamlit First App 만들기\n",
    "    > docs.streamlit.io/get-started/tutorials/create-an-app#create-your-first-app\n",
    "  - Streamlit Text 연습\n",
    "  - Streamlit Input 위젯 만들기\n",
    "    > docs.streamlit.io/develop/api-reference/widgets#input-widgets\n",
    "  - Streamlit Layout 만들기\n",
    "  - Streamlit Chat 창 만들기\n",
    "  ---"
   ]
  },
  {
   "cell_type": "markdown",
   "id": "1d0268ca",
   "metadata": {},
   "source": [
    "## ✨ CH10 : Streamlit 기본 구성\n",
    "> 소요시간 : 1시간 (11:30 ~ 12:30) "
   ]
  },
  {
   "cell_type": "markdown",
   "id": "6bc377b7",
   "metadata": {},
   "source": [
    "### 👣 따라하기 (20분)\n",
    "- 챗봇 UI구성하기\n",
    "    > docs.streamlit.io/develop/api-reference/chat#chat-elements\n",
    "- echobot 만들기\n",
    "    > https://docs.streamlit.io/develop/tutorials/chat-and-llm-apps"
   ]
  },
  {
   "cell_type": "markdown",
   "id": "36a88562",
   "metadata": {},
   "source": [
    "### 💡 이론설명 (10분)\n",
    "- 마크다운\n",
    "- 소스코드에 주석달기"
   ]
  },
  {
   "cell_type": "markdown",
   "id": "0e7b3f36",
   "metadata": {},
   "source": [
    "### 💻 실습하기 (25분)\n",
    "- echobot 만들기\n",
    "---"
   ]
  },
  {
   "cell_type": "markdown",
   "id": "74db317a",
   "metadata": {},
   "source": [
    "# 🥗 점심시간\n",
    "> 12:30 ~ 13:30\n",
    "---"
   ]
  },
  {
   "cell_type": "markdown",
   "id": "1f24831b",
   "metadata": {},
   "source": [
    "# 🎯 둘째 날 - 오후 세션"
   ]
  },
  {
   "cell_type": "markdown",
   "id": "ec53f916",
   "metadata": {},
   "source": [
    "## ✨ CH11 \n",
    "> 소요시간 : 1시간 (13:30 ~ 14:30)"
   ]
  },
  {
   "cell_type": "markdown",
   "id": "6d94c002",
   "metadata": {},
   "source": [
    "### 👣 따라하기 (20분)\n",
    "- OpenAI 연동하기\n",
    "- ChatGPT-like 챗봇 실행하기 "
   ]
  },
  {
   "cell_type": "markdown",
   "id": "96184054",
   "metadata": {},
   "source": [
    "### 💻 실습하기 (30분)\n",
    "- 자신의 챗봇 주제 잡기 : 영어 튜터 챗봇, 시험 도우미 챗봇, 기술문서 질의응답기, etc.\n",
    "- Sidebar 만들기\n",
    "- 챗봇 UI 구성하기 : 타이틀, chatGPT-clone input 창 넣기\n",
    "- Input Widget 넣기\n",
    "- 텍스트 입력창 넣기\n",
    "---"
   ]
  },
  {
   "cell_type": "markdown",
   "id": "ae9ee744",
   "metadata": {},
   "source": [
    "## ✨ CH12 \n",
    "> 소요시간 : 1시간 (14:30 ~ 15:30)"
   ]
  },
  {
   "cell_type": "markdown",
   "id": "a5456003",
   "metadata": {},
   "source": [
    "### 👣 따라하기 (20분)\n",
    "- 이미지 업로드 기능 구현하기\n",
    "- 이전 세션에 만들어 둔 챗봇과 연동하기\n",
    "\n",
    "### 💻 실습하기 (30분)\n",
    "- ChatGPT 이용하여 오류 내용 확인하고 수정하기\n",
    "- 파일 업로드 기능 포함된 챗봇 완성하기\n",
    "    - st.file_uploader()와 결합\n",
    "    - st.download_button() → 답변 저장\n",
    "    - st.sidebar.markdown() → 챗봇 소개, 말투 지정 등 프롬프트 힌트 보여주기\n",
    "- etc.\n",
    "---"
   ]
  },
  {
   "cell_type": "markdown",
   "id": "4265ea2d",
   "metadata": {},
   "source": [
    "## ✨ CH13 \n",
    "> 소요시간 : 1시간 (15:30 ~ 16:30)\n"
   ]
  },
  {
   "cell_type": "markdown",
   "id": "186bc3bf",
   "metadata": {},
   "source": [
    "### 👣 따라하기 (20분)\n",
    "- 소스 리팩토링하기\n",
    "- ChatGPT 외 타 생성형AI 도구 이용한 확장 방안\n",
    "- Claude IDE 바이브코딩 시연\n",
    "\n",
    "### 💻 실습하기 (30분)\n",
    "- 소스 리팩토링하기\n",
    "- 바이브코딩 데모 및 실습\n",
    "---"
   ]
  },
  {
   "cell_type": "markdown",
   "id": "2ae42557",
   "metadata": {},
   "source": [
    "## ✨ CH14\n",
    "> 소요시간 : 1시간 (16:30 ~ 17:30)"
   ]
  },
  {
   "cell_type": "markdown",
   "id": "eb61b4a0",
   "metadata": {},
   "source": [
    "### 💚 Demo (20분) \n",
    "- Streamlit 앱 등록하기\n",
    "- RAG, LangChain"
   ]
  },
  {
   "cell_type": "markdown",
   "id": "4401b880",
   "metadata": {},
   "source": [
    "### 💻 실습하기 (20분)\n",
    "- Extensions: Copilot 설치 \n",
    "- VSCode + Copilot 이용한 코딩\n",
    "- RAG, LangChain 적용 "
   ]
  },
  {
   "cell_type": "markdown",
   "id": "3614d72c",
   "metadata": {},
   "source": [
    "### 💚 리뷰 및 Q&A (10분)\n",
    "- Q&A \n",
    "- API Key 폐기 "
   ]
  }
 ],
 "metadata": {
  "kernelspec": {
   "display_name": "myenv",
   "language": "python",
   "name": "python3"
  },
  "language_info": {
   "codemirror_mode": {
    "name": "ipython",
    "version": 3
   },
   "file_extension": ".py",
   "mimetype": "text/x-python",
   "name": "python",
   "nbconvert_exporter": "python",
   "pygments_lexer": "ipython3",
   "version": "3.12.3"
  }
 },
 "nbformat": 4,
 "nbformat_minor": 5
}
